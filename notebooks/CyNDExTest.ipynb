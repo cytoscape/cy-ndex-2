{
 "cells": [
  {
   "cell_type": "code",
   "execution_count": 1,
   "metadata": {
    "collapsed": true
   },
   "outputs": [],
   "source": [
    "import importlib\n",
    "import cyrest\n",
    "import json"
   ]
  },
  {
   "cell_type": "code",
   "execution_count": 2,
   "metadata": {
    "collapsed": true
   },
   "outputs": [],
   "source": [
    "cyrest = importlib.reload(cyrest)"
   ]
  },
  {
   "cell_type": "code",
   "execution_count": 3,
   "metadata": {
    "collapsed": true
   },
   "outputs": [],
   "source": [
    "caller = cyrest.CyCaller()"
   ]
  },
  {
   "cell_type": "code",
   "execution_count": 64,
   "metadata": {},
   "outputs": [
    {
     "name": "stdout",
     "output_type": "stream",
     "text": [
      "{'suid': 32118, 'uuid': 'addd0feb-c3ed-11e6-8e29-06603eb7f303'}\n"
     ]
    }
   ],
   "source": [
    "# Import a network to Cytoscape\n",
    "resp = caller.post(\"/cyndex2/v1/networks\", data=json.dumps({\"uuid\": \"addd0feb-c3ed-11e6-8e29-06603eb7f303\"}))\n",
    "print(resp)"
   ]
  },
  {
   "cell_type": "code",
   "execution_count": 67,
   "metadata": {},
   "outputs": [
    {
     "name": "stdout",
     "output_type": "stream",
     "text": [
      "{'suid': 8460, 'uuid': '2e93872d-a668-11e8-9520-0ac135e8bacf'}\n"
     ]
    }
   ],
   "source": [
    "# Upload a new network to NDEx\n",
    "resp = caller.post(\"/cyndex2/v1/networks/current\", json.dumps({\"username\": \"bsettle\", \"password\": \"ndexTest\"}))\n",
    "print(resp)"
   ]
  },
  {
   "cell_type": "code",
   "execution_count": 66,
   "metadata": {},
   "outputs": [
    {
     "name": "stdout",
     "output_type": "stream",
     "text": [
      "{'suid': 32118, 'uuid': '2732f297-a668-11e8-9520-0ac135e8bacf'}\n"
     ]
    }
   ],
   "source": [
    "# Update a network on NDEx\n",
    "suid = resp['suid']\n",
    "upd = caller.put(\"/cyndex2/v1/networks/%s\" % suid, json.dumps({\"username\": \"bsettle\", \"password\": \"ndexTest\"}))\n",
    "print(upd)"
   ]
  },
  {
   "cell_type": "code",
   "execution_count": null,
   "metadata": {
    "collapsed": true
   },
   "outputs": [],
   "source": []
  }
 ],
 "metadata": {
  "kernelspec": {
   "display_name": "Python 3",
   "language": "python",
   "name": "python3"
  },
  "language_info": {
   "codemirror_mode": {
    "name": "ipython",
    "version": 3
   },
   "file_extension": ".py",
   "mimetype": "text/x-python",
   "name": "python",
   "nbconvert_exporter": "python",
   "pygments_lexer": "ipython3",
   "version": "3.6.1"
  }
 },
 "nbformat": 4,
 "nbformat_minor": 2
}
