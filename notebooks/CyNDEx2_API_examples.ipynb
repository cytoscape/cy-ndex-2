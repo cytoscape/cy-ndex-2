{
 "cells": [
  {
   "cell_type": "code",
   "execution_count": 1,
   "metadata": {
    "collapsed": false
   },
   "outputs": [
    {
     "name": "stdout",
     "output_type": "stream",
     "text": [
      "Python 3.5.2 :: Anaconda 4.3.1 (x86_64)\r\n"
     ]
    }
   ],
   "source": [
    "!python --version\n"
   ]
  },
  {
   "cell_type": "code",
   "execution_count": 2,
   "metadata": {
    "collapsed": false
   },
   "outputs": [
    {
     "name": "stdout",
     "output_type": "stream",
     "text": [
      "{'apiVersion': 'v1', 'appName': 'CyNDEx-2', 'appVersion': '2.0.0'}\n"
     ]
    }
   ],
   "source": [
    "import requests\n",
    "import pprint as pp\n",
    "import json\n",
    "\n",
    "BASE_URL = 'http://localhost:1234/ndex/v1'\n",
    "\n",
    "# Status\n",
    "r = requests.get(BASE_URL)\n",
    "values = json.loads(r.text)\n",
    "pp.pprint(values)"
   ]
  },
  {
   "cell_type": "code",
   "execution_count": 3,
   "metadata": {
    "collapsed": false
   },
   "outputs": [
    {
     "name": "stdout",
     "output_type": "stream",
     "text": [
      "'{\"suid\":52,\"uuid\":\"1c6571d0-2a06-11e7-8f50-0ac135e8bacf\"}'\n"
     ]
    }
   ],
   "source": [
    "# Load a network from NDEx\n",
    "\n",
    "payload = {\n",
    "    'uuid': '1c6571d0-2a06-11e7-8f50-0ac135e8bacf',\n",
    "    'serverUrl': 'http://www.ndexbio.org/v2',\n",
    "}\n",
    "\n",
    "r = requests.post(BASE_URL + '/networks', json=payload)\n",
    "pp.pprint(r.text)"
   ]
  },
  {
   "cell_type": "code",
   "execution_count": 4,
   "metadata": {
    "collapsed": false
   },
   "outputs": [
    {
     "name": "stdout",
     "output_type": "stream",
     "text": [
      "{'currentNetworkSuid': 52,\n",
      " 'currentRootNetwork': {'name': 'FanGO',\n",
      "                        'props': {'SUID': 36,\n",
      "                                  'name': 'FanGO',\n",
      "                                  'selected': False},\n",
      "                        'suid': 36},\n",
      " 'members': [{'name': 'FanGO',\n",
      "              'ndexUuid': '1c6571d0-2a06-11e7-8f50-0ac135e8bacf',\n",
      "              'props': {'SUID': 52,\n",
      "                        '__Annotations': [],\n",
      "                        'name': 'FanGO',\n",
      "                        'ndex.uuid': '1c6571d0-2a06-11e7-8f50-0ac135e8bacf',\n",
      "                        'selected': True,\n",
      "                        'shared name': 'FanGO'},\n",
      "              'suid': 52}]}\n"
     ]
    }
   ],
   "source": [
    "# Summary\n",
    "r = requests.get(BASE_URL + '/networks/current')\n",
    "values = json.loads(r.text)\n",
    "pp.pprint(values)"
   ]
  },
  {
   "cell_type": "code",
   "execution_count": 5,
   "metadata": {
    "collapsed": false
   },
   "outputs": [
    {
     "name": "stdout",
     "output_type": "stream",
     "text": [
      "'{\"suid\":52,\"uuid\":\"4287db5a-2c43-11e7-8f50-0ac135e8bacf\"}'\n"
     ]
    }
   ],
   "source": [
    "# Uploading\n",
    "\n",
    "payload2 = {\n",
    "    'serverUrl': 'http://www.ndexbio.org/v2',\n",
    "    'userId': '',\n",
    "    'password': '',\n",
    "    'metadata': {\n",
    "        'ndex.description': 'Sample description from Cytoscape',\n",
    "        'name': 'Network name updated via rest',\n",
    "        'ndex.species': 'human'\n",
    "    },\n",
    "    'isPublic': False\n",
    "}\n",
    "\n",
    "r = requests.post(BASE_URL + '/networks/current', json=payload2)\n",
    "pp.pprint(r.text)"
   ]
  }
 ],
 "metadata": {
  "kernelspec": {
   "display_name": "Python [default]",
   "language": "python",
   "name": "python3"
  },
  "language_info": {
   "codemirror_mode": {
    "name": "ipython",
    "version": 3
   },
   "file_extension": ".py",
   "mimetype": "text/x-python",
   "name": "python",
   "nbconvert_exporter": "python",
   "pygments_lexer": "ipython3",
   "version": "3.5.2"
  }
 },
 "nbformat": 4,
 "nbformat_minor": 2
}
