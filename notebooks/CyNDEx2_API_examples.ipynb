{
 "cells": [
  {
   "cell_type": "code",
   "execution_count": 1,
   "metadata": {
    "collapsed": false
   },
   "outputs": [
    {
     "name": "stdout",
     "output_type": "stream",
     "text": [
      "Python 3.6.0 :: Anaconda 4.3.1 (x86_64)\r\n"
     ]
    }
   ],
   "source": [
    "!python --version\n"
   ]
  },
  {
   "cell_type": "code",
   "execution_count": 14,
   "metadata": {
    "collapsed": false
   },
   "outputs": [
    {
     "name": "stdout",
     "output_type": "stream",
     "text": [
      "{'data': {'apiVersion': '1',\n",
      "          'appName': 'CyNDEx-2',\n",
      "          'appVersion': '2.0.1',\n",
      "          'description': 'NDEx client for Cytoscape. This app supports NDEx '\n",
      "                         'API V2.'},\n",
      " 'errors': []}\n"
     ]
    }
   ],
   "source": [
    "import requests\n",
    "import pprint as pp\n",
    "import json\n",
    "\n",
    "BASE_URL = 'http://localhost:1234/cyndex2/v1'\n",
    "\n",
    "# Status\n",
    "r = requests.get(BASE_URL)\n",
    "values = json.loads(r.text)\n",
    "pp.pprint(values)"
   ]
  },
  {
   "cell_type": "code",
   "execution_count": 5,
   "metadata": {
    "collapsed": false
   },
   "outputs": [
    {
     "name": "stdout",
     "output_type": "stream",
     "text": [
      "{'data': {'suid': 52, 'uuid': 'f6aa4772-297b-11e7-8f50-0ac135e8bacf'},\n",
      " 'errors': []}\n"
     ]
    }
   ],
   "source": [
    "# Load a public network from NDEx\n",
    "\n",
    "payload = {\n",
    "    'uuid': 'f6aa4772-297b-11e7-8f50-0ac135e8bacf',\n",
    "    'serverUrl': 'http://www.ndexbio.org/v2',\n",
    "}\n",
    "\n",
    "r = requests.post(BASE_URL + '/networks', json=payload)\n",
    "values = json.loads(r.text)\n",
    "pp.pprint(values)"
   ]
  },
  {
   "cell_type": "code",
   "execution_count": 12,
   "metadata": {
    "collapsed": false
   },
   "outputs": [
    {
     "name": "stdout",
     "output_type": "stream",
     "text": [
      "{ 'data': {},\n",
      "  'errors': [ { 'link': 'file:/Users/kono/CytoscapeConfiguration/3/framework-cytoscape.log',\n",
      "                'message': 'Remote service call failed.',\n",
      "                'status': 500,\n",
      "                'type': 'urn:cytoscape:ci:ndex:v1:errors:3'}]}\n"
     ]
    }
   ],
   "source": [
    "# Load a public network from NDEx with BAD ID\n",
    "\n",
    "payload = {\n",
    "    'uuid': '1c6571d0-2a06-11e7-8acf',\n",
    "    'serverUrl': 'http://www.ndexbio.org/v2',\n",
    "}\n",
    "\n",
    "r = requests.post(BASE_URL + '/networks', json=payload)\n",
    "values = json.loads(r.text)\n",
    "pp.pprint(values, indent=2)"
   ]
  },
  {
   "cell_type": "code",
   "execution_count": 13,
   "metadata": {
    "collapsed": false
   },
   "outputs": [
    {
     "name": "stdout",
     "output_type": "stream",
     "text": [
      "{ 'data': { 'currentNetworkSuid': 52,\n",
      "            'currentRootNetwork': { 'name': 'FanGO',\n",
      "                                    'props': { 'SUID': 36,\n",
      "                                               'description': '\\n'\n",
      "                                                              '                  ',\n",
      "                                               'name': 'FanGO',\n",
      "                                               'ndex.uuid': 'f6aa4772-297b-11e7-8f50-0ac135e8bacf',\n",
      "                                               'selected': False},\n",
      "                                    'suid': 36},\n",
      "            'members': [ { 'name': 'FanGO',\n",
      "                           'props': { 'SUID': 52,\n",
      "                                      '__Annotations': [],\n",
      "                                      'name': 'FanGO',\n",
      "                                      'selected': True,\n",
      "                                      'shared name': 'FanGO'},\n",
      "                           'suid': 52}]},\n",
      "  'errors': []}\n"
     ]
    }
   ],
   "source": [
    "# Get Summary of the network collection\n",
    "\n",
    "r = requests.get(BASE_URL + '/networks/current')\n",
    "values = json.loads(r.text)\n",
    "pp.pprint(r.json(), indent=2)"
   ]
  },
  {
   "cell_type": "code",
   "execution_count": 5,
   "metadata": {
    "collapsed": false
   },
   "outputs": [
    {
     "data": {
      "text/plain": [
       "'{\"data\":{},\"errors\":[{\"status\":500,\"type\":\"urn:cytoscape:ci:ndex:v1:errors:1\",\"message\":\"Could not get network summary from NDEx.\",\"link\":\"file:/Users/kono/CytoscapeConfiguration/3/framework-cytoscape.log\"}]}'"
      ]
     },
     "execution_count": 5,
     "metadata": {},
     "output_type": "execute_result"
    }
   ],
   "source": [
    "# Invalid UUID test: This is an invalid input\n",
    "\n",
    "payload = {\n",
    "    'uuid': '1c6571d0-2a06-11e7-8f',\n",
    "    'serverUrl': 'http://www.n',\n",
    "}\n",
    "\n",
    "r = requests.post(BASE_URL + '/networks', json=payload)\n",
    "r.text"
   ]
  },
  {
   "cell_type": "code",
   "execution_count": 7,
   "metadata": {
    "collapsed": false
   },
   "outputs": [
    {
     "data": {
      "text/plain": [
       "'<html>\\n<head>\\n<meta http-equiv=\"Content-Type\" content=\"text/html; charset=ISO-8859-1\"/>\\n<title>Error 404 Not Found</title>\\n</head>\\n<body><h2>HTTP ERROR 404</h2>\\n<p>Problem accessing /ndex/v1/foo. Reason:\\n<pre>    Not Found</pre></p><hr /><i><small>Powered by Jetty://</small></i><br/>                                                \\n<br/>                                                \\n<br/>                                                \\n<br/>                                                \\n<br/>                                                \\n<br/>                                                \\n<br/>                                                \\n<br/>                                                \\n<br/>                                                \\n<br/>                                                \\n<br/>                                                \\n<br/>                                                \\n<br/>                                                \\n<br/>                                                \\n<br/>                                                \\n<br/>                                                \\n<br/>                                                \\n<br/>                                                \\n<br/>                                                \\n<br/>                                                \\n\\n</body>\\n</html>\\n'"
      ]
     },
     "execution_count": 7,
     "metadata": {},
     "output_type": "execute_result"
    }
   ],
   "source": [
    "# Summary\n",
    "r = requests.get('http://localhost:1234/ndex/v1/foo')\n",
    "r.text"
   ]
  },
  {
   "cell_type": "code",
   "execution_count": 11,
   "metadata": {
    "collapsed": false
   },
   "outputs": [
    {
     "data": {
      "text/plain": [
       "'{\"data\":{},\"errors\":[{\"status\":400,\"type\":\"urn:cytoscape:ci:ndex:v1:errors:1\",\"message\":\"Current network does not exist.  You need to choose a network first.\",\"link\":\"file:///log\"}]}'"
      ]
     },
     "execution_count": 11,
     "metadata": {},
     "output_type": "execute_result"
    }
   ],
   "source": [
    "# Uploading\n",
    "\n",
    "payload2 = {\n",
    "    'serverUrl': 'http://www.ndexbio.org/v2',\n",
    "    'userId': '',\n",
    "    'password': '',\n",
    "    'metadata': {\n",
    "        'ndex.description': 'Sample description from Cytoscape',\n",
    "        'name': 'FanGO Ontology 2',\n",
    "        'ndex.species': 'yeast'\n",
    "    },\n",
    "    'isPublic': False\n",
    "}\n",
    "\n",
    "r = requests.post(BASE_URL + '/networks/current', json=payload2)\n",
    "r.text"
   ]
  },
  {
   "cell_type": "code",
   "execution_count": 14,
   "metadata": {
    "collapsed": false
   },
   "outputs": [
    {
     "data": {
      "text/plain": [
       "'{\"data\":{},\"errors\":[{\"status\":500,\"type\":\"urn:cytoscape:ci:cyrest-core:v1:error-handling:errors:0\",\"message\":\"Uncaught exception while processing resource [qtp654140281-76 - /ndex/v1/networks/current]: null\",\"link\":\"file:/Users/kono/CytoscapeConfiguration/3/framework-cytoscape.log\"}]}'"
      ]
     },
     "execution_count": 14,
     "metadata": {},
     "output_type": "execute_result"
    }
   ],
   "source": [
    "payload2 = {\n",
    "    'serverUrl': 'http://www.ndexbio.org/v2',\n",
    "    'userId': '',\n",
    "    'password': '',\n",
    "    'metadata': {\n",
    "        'ndex.description': 'Sample description from Cytoscape',\n",
    "        'name': 'Updated FANGO Ontology 3 by new version',\n",
    "        'ndex.species': 'human'\n",
    "    }\n",
    "}\n",
    "\n",
    "r = requests.put(BASE_URL + '/networks/current', json=payload2)\n",
    "r.text"
   ]
  }
 ],
 "metadata": {
  "kernelspec": {
   "display_name": "Python 3",
   "language": "python",
   "name": "python3"
  },
  "language_info": {
   "codemirror_mode": {
    "name": "ipython",
    "version": 3
   },
   "file_extension": ".py",
   "mimetype": "text/x-python",
   "name": "python",
   "nbconvert_exporter": "python",
   "pygments_lexer": "ipython3",
   "version": "3.6.0"
  }
 },
 "nbformat": 4,
 "nbformat_minor": 2
}
