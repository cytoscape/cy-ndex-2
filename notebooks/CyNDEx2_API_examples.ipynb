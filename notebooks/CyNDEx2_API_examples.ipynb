{
 "cells": [
  {
   "cell_type": "markdown",
   "metadata": {},
   "source": [
    "# Test script for CyNDEx-2 REST API"
   ]
  },
  {
   "cell_type": "code",
   "execution_count": 2,
   "metadata": {},
   "outputs": [
    {
     "name": "stdout",
     "output_type": "stream",
     "text": [
      "Python 3.5.3 :: Anaconda 4.4.0 (x86_64)\r\n"
     ]
    }
   ],
   "source": [
    "!python --version"
   ]
  },
  {
   "cell_type": "code",
   "execution_count": 1,
   "metadata": {},
   "outputs": [
    {
     "name": "stdout",
     "output_type": "stream",
     "text": [
      "{'data': {'apiVersion': '1',\n",
      "          'appName': 'CyNDEx-2',\n",
      "          'appVersion': '2.0.7',\n",
      "          'description': 'NDEx client for Cytoscape. This app supports NDEx '\n",
      "                         'REST API V2 only.'},\n",
      " 'errors': []}\n"
     ]
    }
   ],
   "source": [
    "import requests\n",
    "import pprint as pp\n",
    "import json\n",
    "\n",
    "BASE_URL = 'http://localhost:1234/cyndex2/v1'\n",
    "\n",
    "# Status\n",
    "r = requests.get(BASE_URL)\n",
    "values = json.loads(r.text)\n",
    "pp.pprint(values)"
   ]
  },
  {
   "cell_type": "code",
   "execution_count": 28,
   "metadata": {},
   "outputs": [
    {
     "name": "stdout",
     "output_type": "stream",
     "text": [
      "{'data': {'suid': 52, 'uuid': 'f6aa4772-297b-11e7-8f50-0ac135e8bacf'},\n",
      " 'errors': []}\n"
     ]
    }
   ],
   "source": [
    "# Load a public network from NDEx\n",
    "\n",
    "payload = {\n",
    "    'uuid': 'f6aa4772-297b-11e7-8f50-0ac135e8bacf',\n",
    "    'serverUrl': 'http://www.ndexbio.org/v2',\n",
    "}\n",
    "\n",
    "r = requests.post(BASE_URL + '/networks', json=payload)\n",
    "values = json.loads(r.text)\n",
    "pp.pprint(values)"
   ]
  },
  {
   "cell_type": "code",
   "execution_count": 10,
   "metadata": {},
   "outputs": [
    {
     "name": "stdout",
     "output_type": "stream",
     "text": [
      "{ 'data': {},\n",
      "  'errors': [ { 'link': 'file:/Users/kono/CytoscapeConfiguration/3/framework-cytoscape.log',\n",
      "                'message': 'Remote service call failed.',\n",
      "                'status': 500,\n",
      "                'type': 'urn:cytoscape:ci:ndex:v1:errors:3'}]}\n"
     ]
    }
   ],
   "source": [
    "# Load a public network from NDEx with BAD ID\n",
    "\n",
    "payload = {\n",
    "    'uuid': '1c6571d0-2a06-11e7-8acf',\n",
    "    'serverUrl': 'http://www.ndexbio.org/v2',\n",
    "}\n",
    "\n",
    "r = requests.post(BASE_URL + '/networks', json=payload)\n",
    "values = json.loads(r.text)\n",
    "pp.pprint(values, indent=2)"
   ]
  },
  {
   "cell_type": "code",
   "execution_count": 11,
   "metadata": {},
   "outputs": [
    {
     "name": "stdout",
     "output_type": "stream",
     "text": [
      "{ 'data': { 'currentNetworkSuid': 52,\n",
      "            'currentRootNetwork': { 'name': 'FanGO',\n",
      "                                    'props': { 'SUID': 36,\n",
      "                                               'description': '\\n'\n",
      "                                                              '                  ',\n",
      "                                               'name': 'FanGO',\n",
      "                                               'ndex.uuid': 'f6aa4772-297b-11e7-8f50-0ac135e8bacf',\n",
      "                                               'selected': False},\n",
      "                                    'suid': 36},\n",
      "            'members': [ { 'name': 'FanGO',\n",
      "                           'props': { 'SUID': 52,\n",
      "                                      '__Annotations': [],\n",
      "                                      'name': 'FanGO',\n",
      "                                      'selected': True,\n",
      "                                      'shared name': 'FanGO'},\n",
      "                           'suid': 52}]},\n",
      "  'errors': []}\n"
     ]
    }
   ],
   "source": [
    "# Get Summary of the network collection\n",
    "\n",
    "r = requests.get(BASE_URL + '/networks/current')\n",
    "values = json.loads(r.text)\n",
    "pp.pprint(r.json(), indent=2)"
   ]
  },
  {
   "cell_type": "code",
   "execution_count": 12,
   "metadata": {},
   "outputs": [
    {
     "data": {
      "text/plain": [
       "'{\"data\":{},\"errors\":[{\"status\":500,\"type\":\"urn:cytoscape:ci:ndex:v1:errors:1\",\"message\":\"Could not get network summary from NDEx.\",\"link\":\"file:/Users/kono/CytoscapeConfiguration/3/framework-cytoscape.log\"}]}'"
      ]
     },
     "execution_count": 12,
     "metadata": {},
     "output_type": "execute_result"
    }
   ],
   "source": [
    "# Invalid UUID test: This is an invalid input\n",
    "\n",
    "payload = {\n",
    "    'uuid': '1c6571d0-2a06-11e7-8f',\n",
    "    'serverUrl': 'http://www.n',\n",
    "}\n",
    "\n",
    "r = requests.post(BASE_URL + '/networks', json=payload)\n",
    "r.text"
   ]
  },
  {
   "cell_type": "code",
   "execution_count": 13,
   "metadata": {},
   "outputs": [
    {
     "data": {
      "text/plain": [
       "'<html>\\n<head>\\n<meta http-equiv=\"Content-Type\" content=\"text/html; charset=ISO-8859-1\"/>\\n<title>Error 404 Not Found</title>\\n</head>\\n<body><h2>HTTP ERROR 404</h2>\\n<p>Problem accessing /ndex/v1/foo. Reason:\\n<pre>    Not Found</pre></p><hr /><i><small>Powered by Jetty://</small></i><br/>                                                \\n<br/>                                                \\n<br/>                                                \\n<br/>                                                \\n<br/>                                                \\n<br/>                                                \\n<br/>                                                \\n<br/>                                                \\n<br/>                                                \\n<br/>                                                \\n<br/>                                                \\n<br/>                                                \\n<br/>                                                \\n<br/>                                                \\n<br/>                                                \\n<br/>                                                \\n<br/>                                                \\n<br/>                                                \\n<br/>                                                \\n<br/>                                                \\n\\n</body>\\n</html>\\n'"
      ]
     },
     "execution_count": 13,
     "metadata": {},
     "output_type": "execute_result"
    }
   ],
   "source": [
    "# Summary\n",
    "r = requests.get('http://localhost:1234/ndex/v1/foo')\n",
    "r.text"
   ]
  },
  {
   "cell_type": "code",
   "execution_count": 29,
   "metadata": {},
   "outputs": [
    {
     "data": {
      "text/plain": [
       "'{\"data\":{\"suid\":52,\"uuid\":\"1d06401c-4aee-11e7-8f50-0ac135e8bacf\"},\"errors\":[]}'"
      ]
     },
     "execution_count": 29,
     "metadata": {},
     "output_type": "execute_result"
    }
   ],
   "source": [
    "# Uploading\n",
    "\n",
    "payload2 = {\n",
    "    'serverUrl': 'http://www.ndexbio.org/v2',\n",
    "    'userId': '',\n",
    "    'password': '',\n",
    "    'metadata': {\n",
    "        'ndex.description': 'Sample description from Cytoscape',\n",
    "        'name': 'FanGO Ontology 2',\n",
    "        'ndex.species': 'yeast'\n",
    "    },\n",
    "    'isPublic': False\n",
    "}\n",
    "\n",
    "r = requests.post(BASE_URL + '/networks/current', json=payload2)\n",
    "r.text"
   ]
  },
  {
   "cell_type": "code",
   "execution_count": 2,
   "metadata": {},
   "outputs": [
    {
     "data": {
      "text/plain": [
       "'{\"data\":{\"suid\":52,\"uuid\":\"bce882c4-4ba9-11e7-8f50-0ac135e8bacf\"},\"errors\":[]}'"
      ]
     },
     "execution_count": 2,
     "metadata": {},
     "output_type": "execute_result"
    }
   ],
   "source": [
    "payload2 = {\n",
    "    'serverUrl': 'http://www.ndexbio.org/v2',\n",
    "    'userId': '',\n",
    "    'password': '',\n",
    "    'metadata': {\n",
    "        'ndex.description': 'Sample description from Cytoscape',\n",
    "        'name': 'New1234- Updated FANGO Ontology 3 by new version',\n",
    "        'ndex.species': 'human'\n",
    "    }\n",
    "}\n",
    "\n",
    "r = requests.put(BASE_URL + '/networks/current', json=payload2)\n",
    "r.text"
   ]
  },
  {
   "cell_type": "code",
   "execution_count": 21,
   "metadata": {},
   "outputs": [
    {
     "data": {
      "text/plain": [
       "'http://localhost:1234/cyndex2/v1/networks/current'"
      ]
     },
     "execution_count": 21,
     "metadata": {},
     "output_type": "execute_result"
    }
   ],
   "source": [
    "r.url"
   ]
  }
 ],
 "metadata": {
  "kernelspec": {
   "display_name": "Python [default]",
   "language": "python",
   "name": "python3"
  },
  "language_info": {
   "codemirror_mode": {
    "name": "ipython",
    "version": 3
   },
   "file_extension": ".py",
   "mimetype": "text/x-python",
   "name": "python",
   "nbconvert_exporter": "python",
   "pygments_lexer": "ipython3",
   "version": "3.5.3"
  }
 },
 "nbformat": 4,
 "nbformat_minor": 2
}
