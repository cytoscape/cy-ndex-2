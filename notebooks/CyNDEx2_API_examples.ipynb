{
 "cells": [
  {
   "cell_type": "code",
   "execution_count": 1,
   "metadata": {
    "collapsed": false
   },
   "outputs": [
    {
     "name": "stdout",
     "output_type": "stream",
     "text": [
      "Python 3.5.2 :: Anaconda 4.3.1 (x86_64)\r\n"
     ]
    }
   ],
   "source": [
    "!python --version\n"
   ]
  },
  {
   "cell_type": "code",
   "execution_count": 53,
   "metadata": {
    "collapsed": false
   },
   "outputs": [
    {
     "name": "stdout",
     "output_type": "stream",
     "text": [
      "{'apiVersion': 'v1', 'appName': 'CyNDEx-2', 'appVersion': '2.0.0'}\n"
     ]
    }
   ],
   "source": [
    "import requests\n",
    "import pprint as pp\n",
    "import json\n",
    "\n",
    "BASE_URL = 'http://localhost:1234/ndex/v1'\n",
    "\n",
    "# Status\n",
    "r = requests.get(BASE_URL)\n",
    "values = json.loads(r.text)\n",
    "pp.pprint(values)"
   ]
  },
  {
   "cell_type": "code",
   "execution_count": 11,
   "metadata": {
    "collapsed": false
   },
   "outputs": [
    {
     "data": {
      "text/plain": [
       "''"
      ]
     },
     "execution_count": 11,
     "metadata": {},
     "output_type": "execute_result"
    }
   ],
   "source": [
    "url1 = 'http://localhost:1234/v1/apply/layouts/kamada-kawai/parameters'\n",
    "pl1 = [{\n",
    "    'name': 'unweighted',\n",
    "    'value': True\n",
    "}]\n",
    "r = requests.put(url1, json = pl1)\n",
    "r.text"
   ]
  },
  {
   "cell_type": "code",
   "execution_count": 58,
   "metadata": {
    "collapsed": false
   },
   "outputs": [
    {
     "name": "stdout",
     "output_type": "stream",
     "text": [
      "'{\"errors\":[],\"data\":{\"suid\":52,\"uuid\":\"1c6571d0-2a06-11e7-8f50-0ac135e8bacf\"}}'\n"
     ]
    }
   ],
   "source": [
    "# Load a public network from NDEx\n",
    "\n",
    "payload = {\n",
    "    'uuid': '1c6571d0-2a06-11e7-8f50-0ac135e8bacf',\n",
    "    'serverUrl': 'http://www.ndexbio.org/v2',\n",
    "}\n",
    "\n",
    "r = requests.post(BASE_URL + '/networks', json=payload)\n",
    "pp.pprint(r.text)"
   ]
  },
  {
   "cell_type": "code",
   "execution_count": 44,
   "metadata": {
    "collapsed": false
   },
   "outputs": [
    {
     "data": {
      "text/plain": [
       "'{\"errors\":[{\"status\":500,\"code\":\"urn:cytoscape:ci:ndex:v1:networks:errors:2\",\"message\":\"Could not get network summary from NDEx.\",\"link\":\"/log\"}]}'"
      ]
     },
     "execution_count": 44,
     "metadata": {},
     "output_type": "execute_result"
    }
   ],
   "source": [
    "# Invalid UUID test: This is an invalid input\n",
    "\n",
    "payload = {\n",
    "    'uuid': '1c6571d0-2a06-11e7-8f',\n",
    "    'serverUrl': 'http://www.n',\n",
    "}\n",
    "\n",
    "r = requests.post(BASE_URL + '/networks', json=payload)\n",
    "r.text"
   ]
  },
  {
   "cell_type": "code",
   "execution_count": 50,
   "metadata": {
    "collapsed": false
   },
   "outputs": [
    {
     "data": {
      "text/plain": [
       "'<html>\\n<head>\\n<meta http-equiv=\"Content-Type\" content=\"text/html; charset=ISO-8859-1\"/>\\n<title>Error 404 Not Found</title>\\n</head>\\n<body><h2>HTTP ERROR 404</h2>\\n<p>Problem accessing /ndex/v1/dadsa. Reason:\\n<pre>    Not Found</pre></p><hr /><i><small>Powered by Jetty://</small></i><br/>                                                \\n<br/>                                                \\n<br/>                                                \\n<br/>                                                \\n<br/>                                                \\n<br/>                                                \\n<br/>                                                \\n<br/>                                                \\n<br/>                                                \\n<br/>                                                \\n<br/>                                                \\n<br/>                                                \\n<br/>                                                \\n<br/>                                                \\n<br/>                                                \\n<br/>                                                \\n<br/>                                                \\n<br/>                                                \\n<br/>                                                \\n<br/>                                                \\n\\n</body>\\n</html>\\n'"
      ]
     },
     "execution_count": 50,
     "metadata": {},
     "output_type": "execute_result"
    }
   ],
   "source": [
    "# Summary\n",
    "r = requests.get(BASE_URL + '/dadsa')\n",
    "r.text"
   ]
  },
  {
   "cell_type": "code",
   "execution_count": 63,
   "metadata": {
    "collapsed": false
   },
   "outputs": [
    {
     "data": {
      "text/plain": [
       "'{\"errors\":[],\"data\":{\"suid\":52,\"uuid\":\"093c4faa-2fab-11e7-8f50-0ac135e8bacf\"}}'"
      ]
     },
     "execution_count": 63,
     "metadata": {},
     "output_type": "execute_result"
    }
   ],
   "source": [
    "# Uploading\n",
    "\n",
    "payload2 = {\n",
    "    'serverUrl': 'http://www.ndexbio.org/v2',\n",
    "    'userId': '',\n",
    "    'password': '',\n",
    "    'metadata': {\n",
    "        'ndex.description': 'Sample description from Cytoscape',\n",
    "        'name': 'Network SAVED via CYNDEX',\n",
    "        'ndex.species': 'yeast'\n",
    "    },\n",
    "    'isPublic': False\n",
    "}\n",
    "\n",
    "r = requests.post(BASE_URL + '/networks/current', json=payload2)\n",
    "r.text"
   ]
  },
  {
   "cell_type": "code",
   "execution_count": 65,
   "metadata": {
    "collapsed": false
   },
   "outputs": [
    {
     "data": {
      "text/plain": [
       "'{\"errors\":[{\"status\":500,\"code\":\"urn:cytoscape:ci:ndex:v1:networks:errors:2\",\"message\":\"Failed to update network to NDEx.\",\"link\":\"/log\"}]}'"
      ]
     },
     "execution_count": 65,
     "metadata": {},
     "output_type": "execute_result"
    }
   ],
   "source": [
    "payload2 = {\n",
    "    'serverUrl': 'http://www.ndexbio.org/v2',\n",
    "    'userId': '',\n",
    "    'password': '',\n",
    "    'metadata': {\n",
    "        'ndex.description': 'Sample description from Cytoscape',\n",
    "        'name': 'Updated collection',\n",
    "        'ndex.species': 'human'\n",
    "    },\n",
    "    'isPublic': False\n",
    "}\n",
    "\n",
    "r = requests.put(BASE_URL + '/networks/current', json=payload2)\n",
    "r.text"
   ]
  }
 ],
 "metadata": {
  "kernelspec": {
   "display_name": "Python [default]",
   "language": "python",
   "name": "python3"
  },
  "language_info": {
   "codemirror_mode": {
    "name": "ipython",
    "version": 3
   },
   "file_extension": ".py",
   "mimetype": "text/x-python",
   "name": "python",
   "nbconvert_exporter": "python",
   "pygments_lexer": "ipython3",
   "version": "3.5.2"
  }
 },
 "nbformat": 4,
 "nbformat_minor": 2
}
