{
 "cells": [
  {
   "cell_type": "markdown",
   "metadata": {},
   "source": [
    "# CyNDEx-2 Automated testing via CyREST\n",
    "\n",
    "The goal of this notebook is to test the endpoints exposed by CyNDEx2 by importing, exporting, modifying, and updating singletons and collections via CyREST. The roundtrip (of collections AND singletons with modifications on either side) must preserve network and collection level attributes (opaque or not).\n"
   ]
  },
  {
   "cell_type": "code",
   "execution_count": 1,
   "metadata": {
    "collapsed": true
   },
   "outputs": [],
   "source": [
    "# import modules for network creation\n",
    "from py2cytoscape.data.cyrest_client import CyRestClient\n",
    "import numpy as np\n",
    "import requests, json, time\n",
    "\n",
    "# Test accounts to use\n",
    "ndex_accounts = {\n",
    "    'public':\n",
    "        {'serverUrl': 'http://ndexbio.org/v2', 'username':'bsettle', 'password':'ndexTest'},\n",
    "    'test':\n",
    "        {'serverUrl': 'http://dev.ndexbio.org/v2', 'username':'bsettle', 'password':'ndexTest'}\n",
    "}\n",
    "\n",
    "REST_ENDPOINT = 'http://localhost:1234'\n"
   ]
  },
  {
   "cell_type": "markdown",
   "metadata": {},
   "source": [
    "# Functions"
   ]
  },
  {
   "cell_type": "code",
   "execution_count": 2,
   "metadata": {
    "collapsed": true
   },
   "outputs": [],
   "source": [
    "'''def getUserId(acc):\n",
    "    url = ndex_accounts[acc]['serverUrl'] + '/user?username=' + ndex_accounts[acc]['username']\n",
    "    resp = requests.get(url)\n",
    "    if 'externalId' in resp.json():\n",
    "        return resp.json()['externalId']\n",
    "'''\n",
    "def assertState(attributes, state):\n",
    "    for k in attributes:\n",
    "        if k not in state or state[k] != attributes[k]:\n",
    "            print(\"{} not in {}\".format(k, state))\n",
    "            return False\n",
    "    return True\n",
    "\n",
    "def addNetworkAttributes(SUID, data):\n",
    "    data = data.copy()\n",
    "    resp = requests.get(REST_ENDPOINT + \"/v1/networks/{}/tables/defaultnetwork\".format(SUID))\n",
    "    net_table = resp.json()\n",
    "    data.update({\"SUID\": SUID})\n",
    "    new_data = {\n",
    "      \"key\": \"SUID\",\n",
    "      \"dataKey\": \"SUID\",\n",
    "      \"data\": [\n",
    "          data\n",
    "      ]\n",
    "    }\n",
    "    resp = requests.put(REST_ENDPOINT + '/v1/networks/{}/tables/defaultnetwork'.format(SUID), data=json.dumps(new_data))\n",
    "    resp = requests.get(REST_ENDPOINT + \"/v1/networks/{}/tables/defaultnetwork\".format(SUID))\n",
    "    return resp.json()\n",
    "\n",
    "def addCollectionAttributes(SUID, data):\n",
    "    data = data.copy()\n",
    "    resp = requests.get(REST_ENDPOINT + \"/v1/collections/{}/tables/default\".format(SUID))\n",
    "    net_table = resp.json()\n",
    "    data.update({\"SUID\": SUID})\n",
    "    new_data = {\n",
    "      \"key\": \"SUID\",\n",
    "      \"dataKey\": \"SUID\",\n",
    "      \"data\": [\n",
    "          data\n",
    "      ]\n",
    "    }\n",
    "    resp = requests.put(REST_ENDPOINT + '/v1/collections/{}/tables/default'.format(SUID), data=json.dumps(new_data))\n",
    "    resp = requests.get(REST_ENDPOINT + \"/v1/collections/{}/tables/default\".format(SUID))\n",
    "    return resp.json()\n",
    "\n",
    "def getCurrentNetworks():\n",
    "    data = requests.get(REST_ENDPOINT + \"/cyndex2/v1/networks/current\").json()\n",
    "    return data['data']\n",
    "\n",
    "def uploadNetwork(suid, data, method='post'):\n",
    "    if method == 'post':\n",
    "        resp = requests.post(REST_ENDPOINT + '/cyndex2/v1/networks/%s' % suid, \n",
    "            data=json.dumps(data), headers={'Content-Type': 'application/json'})\n",
    "    else:\n",
    "        resp = requests.put(REST_ENDPOINT + '/cyndex2/v1/networks/%s' % suid, \n",
    "            data=json.dumps(data), headers={'Content-Type': 'application/json'})\n",
    "    try:\n",
    "        uuid = resp.json()['data']['uuid']\n",
    "    except Exception as e:\n",
    "        raise Exception(resp.content)\n",
    "    return uuid\n",
    "    \n",
    "def importNetwork(uuid, account={'serverUrl': 'http://ndexbio.org/v2'}):\n",
    "    data = {'uuid': uuid}\n",
    "    data.update(account)\n",
    "    resp = requests.post(REST_ENDPOINT + '/cyndex2/v1/networks', \n",
    "        data=json.dumps(data), headers={'Content-Type': 'application/json'})\n",
    "    data=resp.json()['data']\n",
    "    return data['suid'], data['uuid']\n"
   ]
  },
  {
   "cell_type": "code",
   "execution_count": 3,
   "metadata": {
    "collapsed": true
   },
   "outputs": [],
   "source": [
    "def compareAttrs(cyData, ndexData, attrs='all'):\n",
    "    '''Compare dicts for overlapping pairs. Prints attributes to be compared, and to be excluded\n",
    "    \n",
    "    Throws an exception if any attributes to be compared are different'''\n",
    "    if attrs == 'all':\n",
    "        attrs = [k for k in cyData if k in ndexData]\n",
    "    print(\"Attributes being compared: {}\".format(attrs))\n",
    "    print(\"Excluded cyData: {}\".format([k for k in cyData if k not in ndexData]))\n",
    "    print(\"Excluded ndexData: {}\".format([k for k in ndexData if k not in cyData]))\n",
    "    for attr in attrs:\n",
    "        assert attr in cyData, 'Attribute {} not in cytoscape data'.format(attr)\n",
    "        assert attr in ndexData, 'Attribute {} not in NDEx data'.format(attr)\n",
    "        assert cyData[attr] == ndexData[attr], \"Attribute {} invalid. Cy:{} != NDEx:{}\".format(attr, cyData[attr], ndexData[attr])"
   ]
  },
  {
   "cell_type": "code",
   "execution_count": 4,
   "metadata": {},
   "outputs": [],
   "source": [
    "def compareCollectionAttributes(suid, uuid, attrs='all', subAttrs='all', ndexUrl=\"http://ndexbio.org/v2\"):\n",
    "    '''Compare the collection and its subnetworks in Cytoscape with its NDEx sibling by reaching CyREST \n",
    "    and NDEx endpoints. Subnetworks are compared with the compareNetworkAttributes function\n",
    "    Prints attributes to be compared, and to be excluded\n",
    "    \n",
    "    Throws an exception if any attributes to be compared are different\n",
    "    '''\n",
    "    resp = requests.get(REST_ENDPOINT + \"/v1/collections/{}/tables/default\".format(suid))\n",
    "    cyData = resp.json()['rows'][0]\n",
    "    \n",
    "    cySubData = {}\n",
    "    subs = requests.get(REST_ENDPOINT + \"/v1/collections/{}/subnetworks\".format(suid)).json()\n",
    "    for sub in subs:\n",
    "        resp = requests.get(REST_ENDPOINT + \"/v1/networks/{}/tables/defaultnetwork\".format(sub))\n",
    "        cySubData[sub] = resp.json()['rows'][0]\n",
    "\n",
    "    ndexSubData = {}\n",
    "    ndexData = {}\n",
    "    resp = requests.get(ndexUrl + '/network/{}/aspect/networkAttributes'.format(uuid))\n",
    "    ndexCollData = resp.json()\n",
    "    for data in ndexCollData:\n",
    "        val = float(data['v']) if 'd' in data and data['d'] == 'double' else data['v']\n",
    "        if 's' in data:\n",
    "            if data['s'] not in ndexSubData:\n",
    "                ndexSubData[data['s']] = {}\n",
    "            ndexSubData[data['s']][data['n']] = val\n",
    "        else:\n",
    "            ndexData[data['n']] = val\n",
    "            \n",
    "    print(\"Comparing collection level\")\n",
    "    compareAttrs(cyData, ndexData, attrs=attrs)\n",
    "    \n",
    "    print(\"Comparing subnetworks\")\n",
    "    assert set(cySubData.keys()) == set(ndexSubData.keys()), \"Subnetworks are different, Cy:{} != NDEx:{}\".format(cySubData.keys(), ndexSubData.keys())\n",
    "    for n in cySubData:\n",
    "        attrs = subAttrs[n] if (type(subAttrs) == dict and n in subAttrs) else 'all'\n",
    "        compareAttrs(cySubData[n], ndexSubData[n], attrs=attrs)"
   ]
  },
  {
   "cell_type": "code",
   "execution_count": 5,
   "metadata": {},
   "outputs": [],
   "source": [
    "def compareNetworkAttributes(suid, uuid, attrs='all', ndexUrl=\"http://ndexbio.org/v2\"):\n",
    "    '''Compare the subnetwork in Cytoscape with its NDEx sibling by reaching CyREST and NDEx endpoints\n",
    "    Prints attributes to be compared, and to be excluded\n",
    "    \n",
    "    Throws an exception if any attributes to be compared are different\n",
    "    '''\n",
    "    resp = requests.get(REST_ENDPOINT + \"/v1/networks/{}/tables/defaultnetwork\".format(suid))\n",
    "    cyData = resp.json()['rows'][0]\n",
    "\n",
    "    resp = requests.get(ndexUrl + '/network/{}/aspect/networkAttributes'.format(uuid))\n",
    "    ndexData = resp.json()\n",
    "    ndexData = {d['n']: float(d['v']) if 'd' in d and d['d'] == 'double' else d['v'] for d in ndexData}\n",
    "    \n",
    "    compareAttrs(cyData, ndexData, attrs=attrs)\n",
    "    "
   ]
  },
  {
   "cell_type": "code",
   "execution_count": 6,
   "metadata": {
    "collapsed": true
   },
   "outputs": [],
   "source": [
    "def checkNetworkInNDEx(suid, **args):\n",
    "    ''' Check the specified network/collection in Cytoscape for a UUID, and compare the attributes with its sibline\n",
    "    on NDEx.\n",
    "    Returns true if the shared attributes match, false otherwise\n",
    "    Arguments:\n",
    "        suid: SUID of network or collection\n",
    "        ndexUrl: server address if it is not http://ndexbio.org/v2\n",
    "        attrs: Attributes to compare, defaults to only shared attrs\n",
    "        subAttrs: Attributes to compare in subnetworks, defaults to shared\n",
    "    '''\n",
    "    info = requests.get(REST_ENDPOINT + '/cyndex2/v1/networks/{}'.format(suid)).json()['data']\n",
    "    if 'currentNetworkSuid' in info:\n",
    "        for net in info['members']:\n",
    "            if net['suid'] == suid and 'uuid' in net:\n",
    "                compareNetworkAttributes(net['suid'], net['uuid'], **args)\n",
    "                return True\n",
    "    else:\n",
    "        if 'uuid' in info['currentRootNetwork']:\n",
    "            compareCollectionAttributes(info['currentRootNetwork']['suid'], info['currentRootNetwork']['uuid'], **args)\n",
    "            return True\n",
    "    return False"
   ]
  },
  {
   "cell_type": "markdown",
   "metadata": {},
   "source": [
    "# Import/update/export to NDEx"
   ]
  },
  {
   "cell_type": "code",
   "execution_count": 7,
   "metadata": {},
   "outputs": [
    {
     "name": "stdout",
     "output_type": "stream",
     "text": [
      "Importing ACSN: Protein-Protein Interactions from NDEx\n",
      "Asserting network not imported as collection\n",
      "Checking that the network was imported as singleton with all attributes\n",
      "Attributes being compared: ['reference', 'rightsHolder', 'organism', 'author', 'name', 'description', 'networkType', 'version']\n",
      "Excluded cyData: ['shared name', 'SUID', 'selected']\n",
      "Excluded ndexData: []\n",
      "Saving as singleton\n",
      "Saved network with UUID 474a8263-bf55-11e7-9235-06832d634f41\n",
      "\n",
      "Checking new network on NDEx\n",
      "Attributes being compared: ['reference', 'rightsHolder', 'organism', 'author', 'name', 'description', 'networkType', 'version']\n",
      "Excluded cyData: ['shared name', '__Annotations', 'SUID', 'selected']\n",
      "Excluded ndexData: []\n",
      "Adding attributes to subnetwork\n",
      "Updated network with UUID 474a8263-bf55-11e7-9235-06832d634f41\n",
      "\n",
      "Checking updated network on NDEx\n",
      "Attributes being compared: ['extraVal']\n",
      "Excluded cyData: ['__Annotations', 'shared name', 'SUID', 'selected']\n",
      "Excluded ndexData: []\n",
      "Cleaning up\n"
     ]
    }
   ],
   "source": [
    "print(\"Importing ACSN: Protein-Protein Interactions from NDEx\")\n",
    "collectionSUID, uuid = importNetwork(\"34f29fd1-884b-11e7-a10d-0ac135e8bacf\")\n",
    "\n",
    "print(\"Asserting network not imported as collection\")\n",
    "assert not checkNetworkInNDEx(collectionSUID), \"Collection has an SUID {}, but subnetwork should have it\".format(suid)\n",
    "\n",
    "print(\"Checking that the network was imported as singleton with all attributes\")\n",
    "subs = requests.get(REST_ENDPOINT + \"/v1/collections/{}/subnetworks\".format(collectionSUID)).json()\n",
    "assert checkNetworkInNDEx(subs[0]), \"CyNetwork with SUID {} not equal to NDEx net with UUID {}\".format(subs[0], uuid)\n",
    "\n",
    "print(\"Saving as singleton\")\n",
    "data = {'isPublic': True, 'metadata': {}}\n",
    "data.update(ndex_accounts['test'])\n",
    "newUUID = uploadNetwork(subs[0], data)\n",
    "print(\"Saved network with UUID {}\\n\".format(newUUID))\n",
    "\n",
    "print(\"Checking new network on NDEx\")\n",
    "assert checkNetworkInNDEx(subs[0], ndexUrl=\"http://dev.ndexbio.org/v2\"), \"CyNetwork with SUID {} not equal to NDEx net with UUID {}\".format(subs[0], uuid)\n",
    "\n",
    "print(\"Adding attributes to subnetwork\")\n",
    "addNetworkAttributes(subs[0], {'extraVal': 'newValue2'})\n",
    "newUUID = uploadNetwork(subs[0], data, method='put')\n",
    "print(\"Updated network with UUID {}\\n\".format(newUUID))\n",
    "\n",
    "print(\"Checking updated network on NDEx\")\n",
    "assert checkNetworkInNDEx(subs[0], attrs=['extraVal'], ndexUrl=\"http://dev.ndexbio.org/v2\"), \"CyNetwork with SUID {} not equal to NDEx net with UUID {} after update\".format(subs[0], uuid)\n",
    "\n",
    "print(\"Cleaning up\")\n",
    "resp = requests.delete(REST_ENDPOINT + '/v1/networks/{}'.format(subs[0]))"
   ]
  },
  {
   "cell_type": "markdown",
   "metadata": {},
   "source": [
    "# Network creation"
   ]
  },
  {
   "cell_type": "code",
   "execution_count": 8,
   "metadata": {},
   "outputs": [
    {
     "name": "stdout",
     "output_type": "stream",
     "text": [
      "Initializing client...\n",
      "Creating Collection\n",
      "Collection with SUID 25034\n",
      "SubA with SUID 25050\n",
      "SubB with SUID 25078\n",
      "Applying layout...\n",
      "Networks created\n",
      "Adding to SubA {author: BrettA, description: descA}\n",
      "Adding to SubB {author: BrettB, description: descB}\n",
      "Adding extra column to subA nodes\n",
      "Adding to Collection {author: Brett Coll, disease: example}\n"
     ]
    }
   ],
   "source": [
    "'''\n",
    "Create collection \"Collection\" in cytoscape with 2 subnetworks \"SubA\" and \"SubB\"\n",
    "Populate \"description\" column in each with \"collection desc\", \"subA desc\", and \"subB desc\", respectively\n",
    "Save node and edge data for comparison later\n",
    "'''\n",
    "print(\"Initializing client...\")\n",
    "# Create REST client for Cytoscape\n",
    "cy = CyRestClient()\n",
    "# Reset current session for fresh start\n",
    "cy.session.delete()\n",
    "\n",
    "print(\"Creating Collection\")\n",
    "# Prepare ndarray data\n",
    "matrixA = np.array([\n",
    "    [0, 1, 1, 0],\n",
    "    [0, 0, 1, 0],\n",
    "    [0, 0, 0, 1],\n",
    "    [0, 0, 0, 0]\n",
    "    ])\n",
    "matrixB = np.array([\n",
    "    [0, 1, 1, 1, 0],\n",
    "    [0, 0, 0, 0, 1],\n",
    "    [0, 0, 0, 1, 0],\n",
    "    [0, 0, 0, 0, 1],\n",
    "    [0, 0, 0, 0, 0],\n",
    "    ])\n",
    "\n",
    "# Generate cytoscape network obejct from ndarray\n",
    "subA = cy.network.create_from_ndarray(matrixA, name='SubA', collection='Collection')\n",
    "subB = cy.network.create_from_ndarray(matrixB, name='SubB', collection='Collection')\n",
    "\n",
    "collectionSUID = requests.get(REST_ENDPOINT + \"/v1/collections\").json()[0]\n",
    "subASUID = subA._CyNetwork__id\n",
    "subBSUID = subB._CyNetwork__id\n",
    "print(\"Collection with SUID %s\" % collectionSUID)\n",
    "print(\"SubA with SUID %s\" % subASUID)\n",
    "print(\"SubB with SUID %s\" % subBSUID)\n",
    "\n",
    "print(\"Applying layout...\")\n",
    "cy.layout.apply(network=subA)\n",
    "cy.layout.apply(network=subB)\n",
    "\n",
    "print(\"Networks created\")\n",
    "network_states = {\n",
    "    collectionSUID: {},\n",
    "    subASUID: {},\n",
    "    subBSUID: {},\n",
    "}\n",
    "\n",
    "node_data = {\n",
    "    subASUID: {},\n",
    "    subBSUID: {}\n",
    "}\n",
    "\n",
    "print(\"Adding to SubA {author: BrettA, description: descA}\")\n",
    "subAData = {\"author\": \"BrettA\", \"description\": \"descA\"}\n",
    "respA = addNetworkAttributes(subASUID, subAData)\n",
    "network_states[subASUID].update(subAData)\n",
    "\n",
    "print(\"Adding to SubB {author: BrettB, description: descB}\")\n",
    "subBData = {\"author\": \"BrettB\", \"description\": \"descB\"}\n",
    "respB = addNetworkAttributes(subBSUID, subBData)\n",
    "network_states[subBSUID].update(subBData)\n",
    "\n",
    "print(\"Adding extra column to subA nodes\")\n",
    "tableA = subA.get_node_table()\n",
    "extra = ['a', 'b', 'c', 'd']\n",
    "tableA['extra'] = extra\n",
    "node_data[subASUID] = {'extra': extra}\n",
    "subA.update_node_table(tableA, network_key_col='name', data_key_col='name')\n",
    "\n",
    "print(\"Adding to Collection {author: Brett Coll, disease: example}\")\n",
    "collData = {'author': 'Brett Coll', 'disease': 'example'}\n",
    "resp = addCollectionAttributes(collectionSUID, collData)\n",
    "network_states[collectionSUID].update(collData)"
   ]
  },
  {
   "cell_type": "code",
   "execution_count": 9,
   "metadata": {},
   "outputs": [
    {
     "name": "stdout",
     "output_type": "stream",
     "text": [
      "Saving as collection\n",
      "25034\n",
      "{'isPublic': True, 'metadata': {}, 'serverUrl': 'http://dev.ndexbio.org/v2', 'username': 'bsettle', 'password': 'ndexTest'}\n",
      "Saved collection with UUID 511930c9-bf55-11e7-9235-06832d634f41\n",
      "\n",
      "Checking new collection on NDEx\n",
      "Comparing collection level\n",
      "Attributes being compared: ['disease', 'author', 'name']\n",
      "Excluded cyData: ['SUID', 'selected']\n",
      "Excluded ndexData: []\n",
      "Comparing subnetworks\n",
      "Attributes being compared: ['author', 'name', 'description']\n",
      "Excluded cyData: ['shared name', '__Annotations', 'SUID', 'selected']\n",
      "Excluded ndexData: []\n",
      "Attributes being compared: ['author', 'name', 'description']\n",
      "Excluded cyData: ['shared name', '__Annotations', 'SUID', 'selected']\n",
      "Excluded ndexData: []\n",
      "Adding attributes to subnetwork\n",
      "Adding attributes to collection\n",
      "Updated collection with UUID 511930c9-bf55-11e7-9235-06832d634f41\n",
      "\n",
      "Checking updated collection on NDEx\n",
      "Comparing collection level\n",
      "Attributes being compared: ['extraColVal']\n",
      "Excluded cyData: ['SUID', 'selected']\n",
      "Excluded ndexData: []\n",
      "Comparing subnetworks\n",
      "Attributes being compared: ['extraSubVal']\n",
      "Excluded cyData: ['shared name', '__Annotations', 'SUID', 'selected']\n",
      "Excluded ndexData: []\n",
      "Attributes being compared: ['author', 'name', 'description']\n",
      "Excluded cyData: ['shared name', '__Annotations', 'SUID', 'selected']\n",
      "Excluded ndexData: []\n",
      "Cleaning up\n"
     ]
    }
   ],
   "source": [
    "\n",
    "print(\"Saving as collection\")\n",
    "data = {'isPublic': True, 'metadata': {}}\n",
    "data.update(ndex_accounts['test'])\n",
    "newUUID = uploadNetwork(collectionSUID, data)\n",
    "\n",
    "print(\"Saved collection with UUID {}\\n\".format(newUUID))\n",
    "print(\"Checking new collection on NDEx\")\n",
    "assert checkNetworkInNDEx(collectionSUID, ndexUrl=\"http://dev.ndexbio.org/v2\"), \"CyNetwork with SUID {} not equal to NDEx net with UUID {}\".format(collectionSUID, uuid)\n",
    "\n",
    "\n",
    "print(\"Adding attributes to subnetwork\")\n",
    "subs = requests.get(REST_ENDPOINT + \"/v1/collections/{}/subnetworks\".format(collectionSUID)).json()\n",
    "addNetworkAttributes(subs[0], {'extraSubVal': 'newValue2'})\n",
    "print(\"Adding attributes to collection\")\n",
    "addCollectionAttributes(collectionSUID, {'extraColVal': 'newValue2'})\n",
    "\n",
    "\n",
    "newUUID = uploadNetwork(collectionSUID, data, method='put')\n",
    "print(\"Updated collection with UUID {}\\n\".format(newUUID))\n",
    "\n",
    "print(\"Checking updated collection on NDEx\")\n",
    "subAttrs = {subs[0]: ['extraSubVal']}\n",
    "assert checkNetworkInNDEx(collectionSUID, attrs=['extraColVal'], subAttrs=subAttrs, ndexUrl=\"http://dev.ndexbio.org/v2\"), \"CyNetwork with SUID {} not equal to NDEx net with UUID {} after update\".format(collectionSUID, uuid)\n",
    "\n",
    "print(\"Cleaning up\")\n",
    "resp = requests.delete(REST_ENDPOINT + '/v1/networks/{}'.format(subs[0]))\n",
    "resp = requests.delete(REST_ENDPOINT + '/v1/networks/{}'.format(subs[1]))\n"
   ]
  },
  {
   "cell_type": "markdown",
   "metadata": {},
   "source": [
    "# Status Testing"
   ]
  },
  {
   "cell_type": "code",
   "execution_count": 11,
   "metadata": {},
   "outputs": [
    {
     "name": "stdout",
     "output_type": "stream",
     "text": [
      "Initializing client...\n",
      "Creating Collection\n",
      "Collection with SUID 25116\n",
      "SubA with SUID 25132\n",
      "SubB with SUID 25160\n",
      "Applying layout...\n",
      "Networks created\n",
      "Adding to SubA {author: BrettA, description: descA}\n",
      "Adding to SubB {author: BrettB, description: descB}\n",
      "Adding extra column to subA nodes\n",
      "Adding to Collection {author: Brett Coll, disease: example}\n"
     ]
    }
   ],
   "source": [
    "'''\n",
    "Create collection \"Collection\" in cytoscape with 2 subnetworks \"SubA\" and \"SubB\"\n",
    "Populate \"description\" column in each with \"collection desc\", \"subA desc\", and \"subB desc\", respectively\n",
    "Save node and edge data for comparison later\n",
    "'''\n",
    "print(\"Initializing client...\")\n",
    "# Create REST client for Cytoscape\n",
    "cy = CyRestClient()\n",
    "# Reset current session for fresh start\n",
    "cy.session.delete()\n",
    "\n",
    "print(\"Creating Collection\")\n",
    "# Prepare ndarray data\n",
    "matrixA = np.array([\n",
    "    [0, 1, 1, 0],\n",
    "    [0, 0, 1, 0],\n",
    "    [0, 0, 0, 1],\n",
    "    [0, 0, 0, 0]\n",
    "    ])\n",
    "matrixB = np.array([\n",
    "    [0, 1, 1, 1, 0],\n",
    "    [0, 0, 0, 0, 1],\n",
    "    [0, 0, 0, 1, 0],\n",
    "    [0, 0, 0, 0, 1],\n",
    "    [0, 0, 0, 0, 0],\n",
    "    ])\n",
    "\n",
    "# Generate cytoscape network obejct from ndarray\n",
    "subA = cy.network.create_from_ndarray(matrixA, name='SubA', collection='Collection')\n",
    "subB = cy.network.create_from_ndarray(matrixB, name='SubB', collection='Collection')\n",
    "\n",
    "collectionSUID = requests.get(REST_ENDPOINT + \"/v1/collections\").json()[0]\n",
    "subASUID = subA._CyNetwork__id\n",
    "subBSUID = subB._CyNetwork__id\n",
    "print(\"Collection with SUID %s\" % collectionSUID)\n",
    "print(\"SubA with SUID %s\" % subASUID)\n",
    "print(\"SubB with SUID %s\" % subBSUID)\n",
    "\n",
    "print(\"Applying layout...\")\n",
    "cy.layout.apply(network=subA)\n",
    "cy.layout.apply(network=subB)\n",
    "\n",
    "print(\"Networks created\")\n",
    "network_states = {\n",
    "    collectionSUID: {},\n",
    "    subASUID: {},\n",
    "    subBSUID: {},\n",
    "}\n",
    "\n",
    "node_data = {\n",
    "    subASUID: {},\n",
    "    subBSUID: {}\n",
    "}\n",
    "\n",
    "print(\"Adding to SubA {author: BrettA, description: descA}\")\n",
    "subAData = {\"author\": \"BrettA\", \"description\": \"descA\"}\n",
    "respA = addNetworkAttributes(subASUID, subAData)\n",
    "network_states[subASUID].update(subAData)\n",
    "\n",
    "print(\"Adding to SubB {author: BrettB, description: descB}\")\n",
    "subBData = {\"author\": \"BrettB\", \"description\": \"descB\"}\n",
    "respB = addNetworkAttributes(subBSUID, subBData)\n",
    "network_states[subBSUID].update(subBData)\n",
    "\n",
    "print(\"Adding extra column to subA nodes\")\n",
    "tableA = subA.get_node_table()\n",
    "extra = ['a', 'b', 'c', 'd']\n",
    "tableA['extra'] = extra\n",
    "node_data[subASUID] = {'extra': extra}\n",
    "subA.update_node_table(tableA, network_key_col='name', data_key_col='name')\n",
    "\n",
    "print(\"Adding to Collection {author: Brett Coll, disease: example}\")\n",
    "collData = {'author': 'Brett Coll', 'disease': 'example'}\n",
    "resp = addCollectionAttributes(collectionSUID, collData)\n",
    "network_states[collectionSUID].update(collData)"
   ]
  },
  {
   "cell_type": "code",
   "execution_count": 12,
   "metadata": {},
   "outputs": [
    {
     "name": "stdout",
     "output_type": "stream",
     "text": [
      "CyNDEx Version 2.1.6\n",
      "Getting current network data\n",
      "Checking collection attributes\n",
      "Checking network attributes\n",
      "Ready to test...\n"
     ]
    }
   ],
   "source": [
    "# Testing basic CyNDEx2 endpoints\n",
    "resp = requests.get(REST_ENDPOINT + \"/cyndex2/v1\")\n",
    "data=resp.json()['data']\n",
    "\n",
    "assert data['apiVersion'] == \"1\", \"This test is for App Version 1\"\n",
    "print(\"CyNDEx Version \" + data['appVersion'])\n",
    "\n",
    "print(\"Getting current network data\")\n",
    "data = getCurrentNetworks()\n",
    "\n",
    "print(\"Checking collection attributes\")\n",
    "rootInfo = data['currentRootNetwork']\n",
    "assert rootInfo['suid'] == collectionSUID, \"currentRootNetwork is incorrect\"\n",
    "assert rootInfo['name'] == 'Collection', \"Root name incorrect\"\n",
    "assert rootInfo['props']['disease'] == 'example', 'collection attribute \"disease\" was not added'\n",
    "assert rootInfo['props']['author'] == 'Brett Coll', 'collection attribute \"author\" was not added'\n",
    "\n",
    "print(\"Checking network attributes\")\n",
    "nets = data['members']\n",
    "for net in nets:\n",
    "    data = network_states[net['suid']]\n",
    "    if not assertState(data, net['props']):\n",
    "        raise Exception(\"Attributes {} of network with SUID {} should be in {}\".format(data, net['suid'], net['props']))\n",
    "print(\"Ready to test...\")"
   ]
  },
  {
   "cell_type": "code",
   "execution_count": 13,
   "metadata": {},
   "outputs": [
    {
     "ename": "KeyboardInterrupt",
     "evalue": "",
     "output_type": "error",
     "traceback": [
      "\u001b[0;31m---------------------------------------------------------------------------\u001b[0m",
      "\u001b[0;31mTypeError\u001b[0m                                 Traceback (most recent call last)",
      "\u001b[0;32m/anaconda/lib/python3.6/site-packages/requests/packages/urllib3/connectionpool.py\u001b[0m in \u001b[0;36m_make_request\u001b[0;34m(self, conn, method, url, timeout, chunked, **httplib_request_kw)\u001b[0m\n\u001b[1;32m    378\u001b[0m             \u001b[0;32mtry\u001b[0m\u001b[0;34m:\u001b[0m  \u001b[0;31m# Python 2.7, use buffering of HTTP responses\u001b[0m\u001b[0;34m\u001b[0m\u001b[0m\n\u001b[0;32m--> 379\u001b[0;31m                 \u001b[0mhttplib_response\u001b[0m \u001b[0;34m=\u001b[0m \u001b[0mconn\u001b[0m\u001b[0;34m.\u001b[0m\u001b[0mgetresponse\u001b[0m\u001b[0;34m(\u001b[0m\u001b[0mbuffering\u001b[0m\u001b[0;34m=\u001b[0m\u001b[0;32mTrue\u001b[0m\u001b[0;34m)\u001b[0m\u001b[0;34m\u001b[0m\u001b[0m\n\u001b[0m\u001b[1;32m    380\u001b[0m             \u001b[0;32mexcept\u001b[0m \u001b[0mTypeError\u001b[0m\u001b[0;34m:\u001b[0m  \u001b[0;31m# Python 2.6 and older, Python 3\u001b[0m\u001b[0;34m\u001b[0m\u001b[0m\n",
      "\u001b[0;31mTypeError\u001b[0m: getresponse() got an unexpected keyword argument 'buffering'",
      "\nDuring handling of the above exception, another exception occurred:\n",
      "\u001b[0;31mKeyboardInterrupt\u001b[0m                         Traceback (most recent call last)",
      "\u001b[0;32m<ipython-input-13-d6eae50e5b3d>\u001b[0m in \u001b[0;36m<module>\u001b[0;34m()\u001b[0m\n\u001b[1;32m      1\u001b[0m \u001b[0muuid\u001b[0m \u001b[0;34m=\u001b[0m \u001b[0;34m\"fd15a70a-c7b5-11e4-951c-000c29cb28fb\"\u001b[0m\u001b[0;34m\u001b[0m\u001b[0m\n\u001b[0;32m----> 2\u001b[0;31m \u001b[0mimportNetwork\u001b[0m\u001b[0;34m(\u001b[0m\u001b[0muuid\u001b[0m\u001b[0;34m)\u001b[0m\u001b[0;34m\u001b[0m\u001b[0m\n\u001b[0m",
      "\u001b[0;32m<ipython-input-2-dac790b3872b>\u001b[0m in \u001b[0;36mimportNetwork\u001b[0;34m(uuid, account)\u001b[0m\n\u001b[1;32m     65\u001b[0m     \u001b[0mdata\u001b[0m\u001b[0;34m.\u001b[0m\u001b[0mupdate\u001b[0m\u001b[0;34m(\u001b[0m\u001b[0maccount\u001b[0m\u001b[0;34m)\u001b[0m\u001b[0;34m\u001b[0m\u001b[0m\n\u001b[1;32m     66\u001b[0m     resp = requests.post(REST_ENDPOINT + '/cyndex2/v1/networks', \n\u001b[0;32m---> 67\u001b[0;31m         data=json.dumps(data), headers={'Content-Type': 'application/json'})\n\u001b[0m\u001b[1;32m     68\u001b[0m     \u001b[0mdata\u001b[0m\u001b[0;34m=\u001b[0m\u001b[0mresp\u001b[0m\u001b[0;34m.\u001b[0m\u001b[0mjson\u001b[0m\u001b[0;34m(\u001b[0m\u001b[0;34m)\u001b[0m\u001b[0;34m[\u001b[0m\u001b[0;34m'data'\u001b[0m\u001b[0;34m]\u001b[0m\u001b[0;34m\u001b[0m\u001b[0m\n\u001b[1;32m     69\u001b[0m     \u001b[0;32mreturn\u001b[0m \u001b[0mdata\u001b[0m\u001b[0;34m[\u001b[0m\u001b[0;34m'suid'\u001b[0m\u001b[0;34m]\u001b[0m\u001b[0;34m,\u001b[0m \u001b[0mdata\u001b[0m\u001b[0;34m[\u001b[0m\u001b[0;34m'uuid'\u001b[0m\u001b[0;34m]\u001b[0m\u001b[0;34m\u001b[0m\u001b[0m\n",
      "\u001b[0;32m/anaconda/lib/python3.6/site-packages/requests/api.py\u001b[0m in \u001b[0;36mpost\u001b[0;34m(url, data, json, **kwargs)\u001b[0m\n\u001b[1;32m    110\u001b[0m     \"\"\"\n\u001b[1;32m    111\u001b[0m \u001b[0;34m\u001b[0m\u001b[0m\n\u001b[0;32m--> 112\u001b[0;31m     \u001b[0;32mreturn\u001b[0m \u001b[0mrequest\u001b[0m\u001b[0;34m(\u001b[0m\u001b[0;34m'post'\u001b[0m\u001b[0;34m,\u001b[0m \u001b[0murl\u001b[0m\u001b[0;34m,\u001b[0m \u001b[0mdata\u001b[0m\u001b[0;34m=\u001b[0m\u001b[0mdata\u001b[0m\u001b[0;34m,\u001b[0m \u001b[0mjson\u001b[0m\u001b[0;34m=\u001b[0m\u001b[0mjson\u001b[0m\u001b[0;34m,\u001b[0m \u001b[0;34m**\u001b[0m\u001b[0mkwargs\u001b[0m\u001b[0;34m)\u001b[0m\u001b[0;34m\u001b[0m\u001b[0m\n\u001b[0m\u001b[1;32m    113\u001b[0m \u001b[0;34m\u001b[0m\u001b[0m\n\u001b[1;32m    114\u001b[0m \u001b[0;34m\u001b[0m\u001b[0m\n",
      "\u001b[0;32m/anaconda/lib/python3.6/site-packages/requests/api.py\u001b[0m in \u001b[0;36mrequest\u001b[0;34m(method, url, **kwargs)\u001b[0m\n\u001b[1;32m     56\u001b[0m     \u001b[0;31m# cases, and look like a memory leak in others.\u001b[0m\u001b[0;34m\u001b[0m\u001b[0;34m\u001b[0m\u001b[0m\n\u001b[1;32m     57\u001b[0m     \u001b[0;32mwith\u001b[0m \u001b[0msessions\u001b[0m\u001b[0;34m.\u001b[0m\u001b[0mSession\u001b[0m\u001b[0;34m(\u001b[0m\u001b[0;34m)\u001b[0m \u001b[0;32mas\u001b[0m \u001b[0msession\u001b[0m\u001b[0;34m:\u001b[0m\u001b[0;34m\u001b[0m\u001b[0m\n\u001b[0;32m---> 58\u001b[0;31m         \u001b[0;32mreturn\u001b[0m \u001b[0msession\u001b[0m\u001b[0;34m.\u001b[0m\u001b[0mrequest\u001b[0m\u001b[0;34m(\u001b[0m\u001b[0mmethod\u001b[0m\u001b[0;34m=\u001b[0m\u001b[0mmethod\u001b[0m\u001b[0;34m,\u001b[0m \u001b[0murl\u001b[0m\u001b[0;34m=\u001b[0m\u001b[0murl\u001b[0m\u001b[0;34m,\u001b[0m \u001b[0;34m**\u001b[0m\u001b[0mkwargs\u001b[0m\u001b[0;34m)\u001b[0m\u001b[0;34m\u001b[0m\u001b[0m\n\u001b[0m\u001b[1;32m     59\u001b[0m \u001b[0;34m\u001b[0m\u001b[0m\n\u001b[1;32m     60\u001b[0m \u001b[0;34m\u001b[0m\u001b[0m\n",
      "\u001b[0;32m/anaconda/lib/python3.6/site-packages/requests/sessions.py\u001b[0m in \u001b[0;36mrequest\u001b[0;34m(self, method, url, params, data, headers, cookies, files, auth, timeout, allow_redirects, proxies, hooks, stream, verify, cert, json)\u001b[0m\n\u001b[1;32m    516\u001b[0m         }\n\u001b[1;32m    517\u001b[0m         \u001b[0msend_kwargs\u001b[0m\u001b[0;34m.\u001b[0m\u001b[0mupdate\u001b[0m\u001b[0;34m(\u001b[0m\u001b[0msettings\u001b[0m\u001b[0;34m)\u001b[0m\u001b[0;34m\u001b[0m\u001b[0m\n\u001b[0;32m--> 518\u001b[0;31m         \u001b[0mresp\u001b[0m \u001b[0;34m=\u001b[0m \u001b[0mself\u001b[0m\u001b[0;34m.\u001b[0m\u001b[0msend\u001b[0m\u001b[0;34m(\u001b[0m\u001b[0mprep\u001b[0m\u001b[0;34m,\u001b[0m \u001b[0;34m**\u001b[0m\u001b[0msend_kwargs\u001b[0m\u001b[0;34m)\u001b[0m\u001b[0;34m\u001b[0m\u001b[0m\n\u001b[0m\u001b[1;32m    519\u001b[0m \u001b[0;34m\u001b[0m\u001b[0m\n\u001b[1;32m    520\u001b[0m         \u001b[0;32mreturn\u001b[0m \u001b[0mresp\u001b[0m\u001b[0;34m\u001b[0m\u001b[0m\n",
      "\u001b[0;32m/anaconda/lib/python3.6/site-packages/requests/sessions.py\u001b[0m in \u001b[0;36msend\u001b[0;34m(self, request, **kwargs)\u001b[0m\n\u001b[1;32m    637\u001b[0m \u001b[0;34m\u001b[0m\u001b[0m\n\u001b[1;32m    638\u001b[0m         \u001b[0;31m# Send the request\u001b[0m\u001b[0;34m\u001b[0m\u001b[0;34m\u001b[0m\u001b[0m\n\u001b[0;32m--> 639\u001b[0;31m         \u001b[0mr\u001b[0m \u001b[0;34m=\u001b[0m \u001b[0madapter\u001b[0m\u001b[0;34m.\u001b[0m\u001b[0msend\u001b[0m\u001b[0;34m(\u001b[0m\u001b[0mrequest\u001b[0m\u001b[0;34m,\u001b[0m \u001b[0;34m**\u001b[0m\u001b[0mkwargs\u001b[0m\u001b[0;34m)\u001b[0m\u001b[0;34m\u001b[0m\u001b[0m\n\u001b[0m\u001b[1;32m    640\u001b[0m \u001b[0;34m\u001b[0m\u001b[0m\n\u001b[1;32m    641\u001b[0m         \u001b[0;31m# Total elapsed time of the request (approximately)\u001b[0m\u001b[0;34m\u001b[0m\u001b[0;34m\u001b[0m\u001b[0m\n",
      "\u001b[0;32m/anaconda/lib/python3.6/site-packages/requests/adapters.py\u001b[0m in \u001b[0;36msend\u001b[0;34m(self, request, stream, timeout, verify, cert, proxies)\u001b[0m\n\u001b[1;32m    436\u001b[0m                     \u001b[0mdecode_content\u001b[0m\u001b[0;34m=\u001b[0m\u001b[0;32mFalse\u001b[0m\u001b[0;34m,\u001b[0m\u001b[0;34m\u001b[0m\u001b[0m\n\u001b[1;32m    437\u001b[0m                     \u001b[0mretries\u001b[0m\u001b[0;34m=\u001b[0m\u001b[0mself\u001b[0m\u001b[0;34m.\u001b[0m\u001b[0mmax_retries\u001b[0m\u001b[0;34m,\u001b[0m\u001b[0;34m\u001b[0m\u001b[0m\n\u001b[0;32m--> 438\u001b[0;31m                     \u001b[0mtimeout\u001b[0m\u001b[0;34m=\u001b[0m\u001b[0mtimeout\u001b[0m\u001b[0;34m\u001b[0m\u001b[0m\n\u001b[0m\u001b[1;32m    439\u001b[0m                 )\n\u001b[1;32m    440\u001b[0m \u001b[0;34m\u001b[0m\u001b[0m\n",
      "\u001b[0;32m/anaconda/lib/python3.6/site-packages/requests/packages/urllib3/connectionpool.py\u001b[0m in \u001b[0;36murlopen\u001b[0;34m(self, method, url, body, headers, retries, redirect, assert_same_host, timeout, pool_timeout, release_conn, chunked, body_pos, **response_kw)\u001b[0m\n\u001b[1;32m    598\u001b[0m                                                   \u001b[0mtimeout\u001b[0m\u001b[0;34m=\u001b[0m\u001b[0mtimeout_obj\u001b[0m\u001b[0;34m,\u001b[0m\u001b[0;34m\u001b[0m\u001b[0m\n\u001b[1;32m    599\u001b[0m                                                   \u001b[0mbody\u001b[0m\u001b[0;34m=\u001b[0m\u001b[0mbody\u001b[0m\u001b[0;34m,\u001b[0m \u001b[0mheaders\u001b[0m\u001b[0;34m=\u001b[0m\u001b[0mheaders\u001b[0m\u001b[0;34m,\u001b[0m\u001b[0;34m\u001b[0m\u001b[0m\n\u001b[0;32m--> 600\u001b[0;31m                                                   chunked=chunked)\n\u001b[0m\u001b[1;32m    601\u001b[0m \u001b[0;34m\u001b[0m\u001b[0m\n\u001b[1;32m    602\u001b[0m             \u001b[0;31m# If we're going to release the connection in ``finally:``, then\u001b[0m\u001b[0;34m\u001b[0m\u001b[0;34m\u001b[0m\u001b[0m\n",
      "\u001b[0;32m/anaconda/lib/python3.6/site-packages/requests/packages/urllib3/connectionpool.py\u001b[0m in \u001b[0;36m_make_request\u001b[0;34m(self, conn, method, url, timeout, chunked, **httplib_request_kw)\u001b[0m\n\u001b[1;32m    380\u001b[0m             \u001b[0;32mexcept\u001b[0m \u001b[0mTypeError\u001b[0m\u001b[0;34m:\u001b[0m  \u001b[0;31m# Python 2.6 and older, Python 3\u001b[0m\u001b[0;34m\u001b[0m\u001b[0m\n\u001b[1;32m    381\u001b[0m                 \u001b[0;32mtry\u001b[0m\u001b[0;34m:\u001b[0m\u001b[0;34m\u001b[0m\u001b[0m\n\u001b[0;32m--> 382\u001b[0;31m                     \u001b[0mhttplib_response\u001b[0m \u001b[0;34m=\u001b[0m \u001b[0mconn\u001b[0m\u001b[0;34m.\u001b[0m\u001b[0mgetresponse\u001b[0m\u001b[0;34m(\u001b[0m\u001b[0;34m)\u001b[0m\u001b[0;34m\u001b[0m\u001b[0m\n\u001b[0m\u001b[1;32m    383\u001b[0m                 \u001b[0;32mexcept\u001b[0m \u001b[0mException\u001b[0m \u001b[0;32mas\u001b[0m \u001b[0me\u001b[0m\u001b[0;34m:\u001b[0m\u001b[0;34m\u001b[0m\u001b[0m\n\u001b[1;32m    384\u001b[0m                     \u001b[0;31m# Remove the TypeError from the exception chain in Python 3;\u001b[0m\u001b[0;34m\u001b[0m\u001b[0;34m\u001b[0m\u001b[0m\n",
      "\u001b[0;32m/anaconda/lib/python3.6/http/client.py\u001b[0m in \u001b[0;36mgetresponse\u001b[0;34m(self)\u001b[0m\n\u001b[1;32m   1329\u001b[0m         \u001b[0;32mtry\u001b[0m\u001b[0;34m:\u001b[0m\u001b[0;34m\u001b[0m\u001b[0m\n\u001b[1;32m   1330\u001b[0m             \u001b[0;32mtry\u001b[0m\u001b[0;34m:\u001b[0m\u001b[0;34m\u001b[0m\u001b[0m\n\u001b[0;32m-> 1331\u001b[0;31m                 \u001b[0mresponse\u001b[0m\u001b[0;34m.\u001b[0m\u001b[0mbegin\u001b[0m\u001b[0;34m(\u001b[0m\u001b[0;34m)\u001b[0m\u001b[0;34m\u001b[0m\u001b[0m\n\u001b[0m\u001b[1;32m   1332\u001b[0m             \u001b[0;32mexcept\u001b[0m \u001b[0mConnectionError\u001b[0m\u001b[0;34m:\u001b[0m\u001b[0;34m\u001b[0m\u001b[0m\n\u001b[1;32m   1333\u001b[0m                 \u001b[0mself\u001b[0m\u001b[0;34m.\u001b[0m\u001b[0mclose\u001b[0m\u001b[0;34m(\u001b[0m\u001b[0;34m)\u001b[0m\u001b[0;34m\u001b[0m\u001b[0m\n",
      "\u001b[0;32m/anaconda/lib/python3.6/http/client.py\u001b[0m in \u001b[0;36mbegin\u001b[0;34m(self)\u001b[0m\n\u001b[1;32m    295\u001b[0m         \u001b[0;31m# read until we get a non-100 response\u001b[0m\u001b[0;34m\u001b[0m\u001b[0;34m\u001b[0m\u001b[0m\n\u001b[1;32m    296\u001b[0m         \u001b[0;32mwhile\u001b[0m \u001b[0;32mTrue\u001b[0m\u001b[0;34m:\u001b[0m\u001b[0;34m\u001b[0m\u001b[0m\n\u001b[0;32m--> 297\u001b[0;31m             \u001b[0mversion\u001b[0m\u001b[0;34m,\u001b[0m \u001b[0mstatus\u001b[0m\u001b[0;34m,\u001b[0m \u001b[0mreason\u001b[0m \u001b[0;34m=\u001b[0m \u001b[0mself\u001b[0m\u001b[0;34m.\u001b[0m\u001b[0m_read_status\u001b[0m\u001b[0;34m(\u001b[0m\u001b[0;34m)\u001b[0m\u001b[0;34m\u001b[0m\u001b[0m\n\u001b[0m\u001b[1;32m    298\u001b[0m             \u001b[0;32mif\u001b[0m \u001b[0mstatus\u001b[0m \u001b[0;34m!=\u001b[0m \u001b[0mCONTINUE\u001b[0m\u001b[0;34m:\u001b[0m\u001b[0;34m\u001b[0m\u001b[0m\n\u001b[1;32m    299\u001b[0m                 \u001b[0;32mbreak\u001b[0m\u001b[0;34m\u001b[0m\u001b[0m\n",
      "\u001b[0;32m/anaconda/lib/python3.6/http/client.py\u001b[0m in \u001b[0;36m_read_status\u001b[0;34m(self)\u001b[0m\n\u001b[1;32m    256\u001b[0m \u001b[0;34m\u001b[0m\u001b[0m\n\u001b[1;32m    257\u001b[0m     \u001b[0;32mdef\u001b[0m \u001b[0m_read_status\u001b[0m\u001b[0;34m(\u001b[0m\u001b[0mself\u001b[0m\u001b[0;34m)\u001b[0m\u001b[0;34m:\u001b[0m\u001b[0;34m\u001b[0m\u001b[0m\n\u001b[0;32m--> 258\u001b[0;31m         \u001b[0mline\u001b[0m \u001b[0;34m=\u001b[0m \u001b[0mstr\u001b[0m\u001b[0;34m(\u001b[0m\u001b[0mself\u001b[0m\u001b[0;34m.\u001b[0m\u001b[0mfp\u001b[0m\u001b[0;34m.\u001b[0m\u001b[0mreadline\u001b[0m\u001b[0;34m(\u001b[0m\u001b[0m_MAXLINE\u001b[0m \u001b[0;34m+\u001b[0m \u001b[0;36m1\u001b[0m\u001b[0;34m)\u001b[0m\u001b[0;34m,\u001b[0m \u001b[0;34m\"iso-8859-1\"\u001b[0m\u001b[0;34m)\u001b[0m\u001b[0;34m\u001b[0m\u001b[0m\n\u001b[0m\u001b[1;32m    259\u001b[0m         \u001b[0;32mif\u001b[0m \u001b[0mlen\u001b[0m\u001b[0;34m(\u001b[0m\u001b[0mline\u001b[0m\u001b[0;34m)\u001b[0m \u001b[0;34m>\u001b[0m \u001b[0m_MAXLINE\u001b[0m\u001b[0;34m:\u001b[0m\u001b[0;34m\u001b[0m\u001b[0m\n\u001b[1;32m    260\u001b[0m             \u001b[0;32mraise\u001b[0m \u001b[0mLineTooLong\u001b[0m\u001b[0;34m(\u001b[0m\u001b[0;34m\"status line\"\u001b[0m\u001b[0;34m)\u001b[0m\u001b[0;34m\u001b[0m\u001b[0m\n",
      "\u001b[0;32m/anaconda/lib/python3.6/socket.py\u001b[0m in \u001b[0;36mreadinto\u001b[0;34m(self, b)\u001b[0m\n\u001b[1;32m    584\u001b[0m         \u001b[0;32mwhile\u001b[0m \u001b[0;32mTrue\u001b[0m\u001b[0;34m:\u001b[0m\u001b[0;34m\u001b[0m\u001b[0m\n\u001b[1;32m    585\u001b[0m             \u001b[0;32mtry\u001b[0m\u001b[0;34m:\u001b[0m\u001b[0;34m\u001b[0m\u001b[0m\n\u001b[0;32m--> 586\u001b[0;31m                 \u001b[0;32mreturn\u001b[0m \u001b[0mself\u001b[0m\u001b[0;34m.\u001b[0m\u001b[0m_sock\u001b[0m\u001b[0;34m.\u001b[0m\u001b[0mrecv_into\u001b[0m\u001b[0;34m(\u001b[0m\u001b[0mb\u001b[0m\u001b[0;34m)\u001b[0m\u001b[0;34m\u001b[0m\u001b[0m\n\u001b[0m\u001b[1;32m    587\u001b[0m             \u001b[0;32mexcept\u001b[0m \u001b[0mtimeout\u001b[0m\u001b[0;34m:\u001b[0m\u001b[0;34m\u001b[0m\u001b[0m\n\u001b[1;32m    588\u001b[0m                 \u001b[0mself\u001b[0m\u001b[0;34m.\u001b[0m\u001b[0m_timeout_occurred\u001b[0m \u001b[0;34m=\u001b[0m \u001b[0;32mTrue\u001b[0m\u001b[0;34m\u001b[0m\u001b[0m\n",
      "\u001b[0;31mKeyboardInterrupt\u001b[0m: "
     ]
    }
   ],
   "source": [
    "uuid = \"fd15a70a-c7b5-11e4-951c-000c29cb28fb\"\n",
    "importNetwork(uuid)\n"
   ]
  },
  {
   "cell_type": "markdown",
   "metadata": {},
   "source": [
    "# Deeper Testing (In Progress)"
   ]
  },
  {
   "cell_type": "code",
   "execution_count": 8,
   "metadata": {},
   "outputs": [
    {
     "name": "stdout",
     "output_type": "stream",
     "text": [
      "Testing save collection private\n",
      "Check your NDEx account to see that the private Collection network is indeed private with disease='example'\n"
     ]
    }
   ],
   "source": [
    "print(\"Testing save collection private\")\n",
    "data = {\n",
    "  \"metadata\": {\n",
    "      'name': 'private Collection',\n",
    "  },\n",
    "  \"isPublic\": 'false',\n",
    "  \"writeCollection\": 'true'\n",
    "}\n",
    "data.update(ndex_accounts['public'])\n",
    "privateUUID = uploadNetwork(subASUID, data)\n",
    "\n",
    "ndexUrl = ndex_accounts['public']['serverUrl']\n",
    "resp = requests.get(ndexUrl + '/network/{}/aspect/networkAttributes'.format(privateUUID))\n",
    "code = resp.json()['errorCode']\n",
    "assert code == 'NDEx_Unauthorized_Operation_Exception', 'Private collection should unauthorized exception'\n",
    "\n",
    "print(\"Check your NDEx account to see that the private Collection network is indeed private with disease='example'\")"
   ]
  },
  {
   "cell_type": "code",
   "execution_count": 7,
   "metadata": {},
   "outputs": [
    {
     "name": "stdout",
     "output_type": "stream",
     "text": [
      "Importing network 604f0e52-be59-11e7-94d3-0ac135e8bacf\n",
      "Adding attribute 'extra' to collection\n",
      "Updating collection attributes\n"
     ]
    },
    {
     "ename": "Exception",
     "evalue": "b'{\"data\":{},\"errors\":[{\"status\":400,\"type\":\"urn:cytoscape:ci:ndex:v1:errors:2\",\"message\":\"Unable to update network in NDEx.\\\\nNDEx network UUID not found. You can only update networks that were imported with CyNDEx2\\\\nTry saving as a new network.\",\"link\":\"file:/Users/bsettle/CytoscapeConfiguration/3/framework-cytoscape.log\"}]}'",
     "output_type": "error",
     "traceback": [
      "\u001b[0;31m---------------------------------------------------------------------------\u001b[0m",
      "\u001b[0;31mKeyError\u001b[0m                                  Traceback (most recent call last)",
      "\u001b[0;32m<ipython-input-2-f1ba576217b4>\u001b[0m in \u001b[0;36muploadNetwork\u001b[0;34m(suid, data, method)\u001b[0m\n\u001b[1;32m     57\u001b[0m     \u001b[0;32mtry\u001b[0m\u001b[0;34m:\u001b[0m\u001b[0;34m\u001b[0m\u001b[0m\n\u001b[0;32m---> 58\u001b[0;31m         \u001b[0muuid\u001b[0m \u001b[0;34m=\u001b[0m \u001b[0mresp\u001b[0m\u001b[0;34m.\u001b[0m\u001b[0mjson\u001b[0m\u001b[0;34m(\u001b[0m\u001b[0;34m)\u001b[0m\u001b[0;34m[\u001b[0m\u001b[0;34m'data'\u001b[0m\u001b[0;34m]\u001b[0m\u001b[0;34m[\u001b[0m\u001b[0;34m'uuid'\u001b[0m\u001b[0;34m]\u001b[0m\u001b[0;34m\u001b[0m\u001b[0m\n\u001b[0m\u001b[1;32m     59\u001b[0m     \u001b[0;32mexcept\u001b[0m \u001b[0mException\u001b[0m \u001b[0;32mas\u001b[0m \u001b[0me\u001b[0m\u001b[0;34m:\u001b[0m\u001b[0;34m\u001b[0m\u001b[0m\n",
      "\u001b[0;31mKeyError\u001b[0m: 'uuid'",
      "\nDuring handling of the above exception, another exception occurred:\n",
      "\u001b[0;31mException\u001b[0m                                 Traceback (most recent call last)",
      "\u001b[0;32m<ipython-input-7-b415d6e99763>\u001b[0m in \u001b[0;36m<module>\u001b[0;34m()\u001b[0m\n\u001b[1;32m     16\u001b[0m \u001b[0mdata\u001b[0m \u001b[0;34m=\u001b[0m \u001b[0;34m{\u001b[0m\u001b[0;34m'writeCollection'\u001b[0m\u001b[0;34m:\u001b[0m \u001b[0;34m\"true\"\u001b[0m\u001b[0;34m,\u001b[0m \u001b[0;34m\"metadata\"\u001b[0m \u001b[0;34m:\u001b[0m \u001b[0;34m{\u001b[0m\u001b[0;34m\"name\"\u001b[0m\u001b[0;34m:\u001b[0m \u001b[0;34m\"collection updated\"\u001b[0m\u001b[0;34m}\u001b[0m\u001b[0;34m,\u001b[0m \u001b[0;34m\"isPublic\"\u001b[0m\u001b[0;34m:\u001b[0m \u001b[0;34m\"false\"\u001b[0m\u001b[0;34m}\u001b[0m\u001b[0;34m\u001b[0m\u001b[0m\n\u001b[1;32m     17\u001b[0m \u001b[0mdata\u001b[0m\u001b[0;34m.\u001b[0m\u001b[0mupdate\u001b[0m\u001b[0;34m(\u001b[0m\u001b[0mndex_accounts\u001b[0m\u001b[0;34m[\u001b[0m\u001b[0;34m'public'\u001b[0m\u001b[0;34m]\u001b[0m\u001b[0;34m)\u001b[0m\u001b[0;34m\u001b[0m\u001b[0m\n\u001b[0;32m---> 18\u001b[0;31m \u001b[0mupdateUUID\u001b[0m \u001b[0;34m=\u001b[0m \u001b[0muploadNetwork\u001b[0m\u001b[0;34m(\u001b[0m\u001b[0msubSUID\u001b[0m\u001b[0;34m,\u001b[0m \u001b[0mdata\u001b[0m\u001b[0;34m,\u001b[0m \u001b[0mmethod\u001b[0m\u001b[0;34m=\u001b[0m\u001b[0;34m'put'\u001b[0m\u001b[0;34m)\u001b[0m\u001b[0;34m\u001b[0m\u001b[0m\n\u001b[0m\u001b[1;32m     19\u001b[0m \u001b[0;32massert\u001b[0m \u001b[0mupdateUUID\u001b[0m \u001b[0;34m==\u001b[0m \u001b[0mnewPrivateUUID\u001b[0m\u001b[0;34m,\u001b[0m \u001b[0;34m\"Updated collection has a different UUID {} != {}\"\u001b[0m\u001b[0;34m.\u001b[0m\u001b[0mformat\u001b[0m\u001b[0;34m(\u001b[0m\u001b[0mupdateUUID\u001b[0m\u001b[0;34m,\u001b[0m \u001b[0mnewPrivateUUID\u001b[0m\u001b[0;34m)\u001b[0m\u001b[0;34m\u001b[0m\u001b[0m\n\u001b[1;32m     20\u001b[0m \u001b[0;34m\u001b[0m\u001b[0m\n",
      "\u001b[0;32m<ipython-input-2-f1ba576217b4>\u001b[0m in \u001b[0;36muploadNetwork\u001b[0;34m(suid, data, method)\u001b[0m\n\u001b[1;32m     58\u001b[0m         \u001b[0muuid\u001b[0m \u001b[0;34m=\u001b[0m \u001b[0mresp\u001b[0m\u001b[0;34m.\u001b[0m\u001b[0mjson\u001b[0m\u001b[0;34m(\u001b[0m\u001b[0;34m)\u001b[0m\u001b[0;34m[\u001b[0m\u001b[0;34m'data'\u001b[0m\u001b[0;34m]\u001b[0m\u001b[0;34m[\u001b[0m\u001b[0;34m'uuid'\u001b[0m\u001b[0;34m]\u001b[0m\u001b[0;34m\u001b[0m\u001b[0m\n\u001b[1;32m     59\u001b[0m     \u001b[0;32mexcept\u001b[0m \u001b[0mException\u001b[0m \u001b[0;32mas\u001b[0m \u001b[0me\u001b[0m\u001b[0;34m:\u001b[0m\u001b[0;34m\u001b[0m\u001b[0m\n\u001b[0;32m---> 60\u001b[0;31m         \u001b[0;32mraise\u001b[0m \u001b[0mException\u001b[0m\u001b[0;34m(\u001b[0m\u001b[0mresp\u001b[0m\u001b[0;34m.\u001b[0m\u001b[0mcontent\u001b[0m\u001b[0;34m)\u001b[0m\u001b[0;34m\u001b[0m\u001b[0m\n\u001b[0m\u001b[1;32m     61\u001b[0m     \u001b[0;32mreturn\u001b[0m \u001b[0muuid\u001b[0m\u001b[0;34m\u001b[0m\u001b[0m\n\u001b[1;32m     62\u001b[0m \u001b[0;34m\u001b[0m\u001b[0m\n",
      "\u001b[0;31mException\u001b[0m: b'{\"data\":{},\"errors\":[{\"status\":400,\"type\":\"urn:cytoscape:ci:ndex:v1:errors:2\",\"message\":\"Unable to update network in NDEx.\\\\nNDEx network UUID not found. You can only update networks that were imported with CyNDEx2\\\\nTry saving as a new network.\",\"link\":\"file:/Users/bsettle/CytoscapeConfiguration/3/framework-cytoscape.log\"}]}'"
     ]
    }
   ],
   "source": [
    "print(\"Importing network \" + privateUUID)\n",
    "newCollectionSUID, newPrivateUUID = importNetwork(privateUUID, ndex_accounts['public'])\n",
    "time.sleep(1)\n",
    "\n",
    "print(\"Adding attribute 'extra' to collection\")\n",
    "collData = {'extra': 'updated', 'disease': 'new'}\n",
    "resp = addCollectionAttributes(newCollectionSUID, collData)\n",
    "network_states[newCollectionSUID] = network_states[collectionSUID].copy()\n",
    "network_states[newCollectionSUID].update(collData)\n",
    "\n",
    "\n",
    "subs = requests.get(REST_ENDPOINT + '/v1/collections/{}/subnetworks'.format(newCollectionSUID)).json()\n",
    "subSUID = subs[0]\n",
    "\n",
    "print(\"Updating collection on NDEx\")\n",
    "data = {'writeCollection': \"true\", \"metadata\" : {\"name\": \"collection updated\"}, \"isPublic\": \"false\"}\n",
    "data.update(ndex_accounts['public'])\n",
    "updateUUID = uploadNetwork(subSUID, data, method='put')\n",
    "assert updateUUID == newPrivateUUID, \"Updated collection has a different UUID {} != {}\".format(updateUUID, newPrivateUUID)\n",
    "\n",
    "print(\"Check your account again, and see that the collection is now public with disease='new'\")\n",
    "# updating public back to private doesn't seem to work\n",
    "\n",
    "print(\"Cleanup... removing imported collection\")\n",
    "#for sub in subs:\n",
    "#    requests.delete(REST_ENDPOINT + \"/v1/networks/{}\".format(sub))"
   ]
  },
  {
   "cell_type": "code",
   "execution_count": null,
   "metadata": {
    "collapsed": true
   },
   "outputs": [],
   "source": [
    "print(\"Testing save collection public\")\n",
    "data = {\n",
    "  \"metadata\": {\n",
    "      'name': 'public Collection',\n",
    "  },\n",
    "  \"isPublic\": 'true',\n",
    "  \"writeCollection\": 'true'\n",
    "}\n",
    "data.update(ndex_accounts['public'])\n",
    "publicUUID = uploadNetwork(subASUID, data)\n",
    "resp = requests.get('http://ndexbio.org/v2/network/{}/aspect/networkAttributes'.format(publicUUID))\n",
    "data = resp.json()\n",
    "data = {d['n']: d['v'] for d in data}\n",
    "\n",
    "if not assertState(network_states[collectionSUID], data):\n",
    "    print(\"Collection summary on NDEx missing attributes.\\n{} not in {}\".format(network_states[collectionSUID], data))\n"
   ]
  },
  {
   "cell_type": "code",
   "execution_count": null,
   "metadata": {
    "collapsed": true
   },
   "outputs": [],
   "source": [
    "print(\"Testing update collection public\")"
   ]
  },
  {
   "cell_type": "markdown",
   "metadata": {},
   "source": [
    "## Singletons"
   ]
  },
  {
   "cell_type": "code",
   "execution_count": 9,
   "metadata": {},
   "outputs": [
    {
     "name": "stdout",
     "output_type": "stream",
     "text": [
      "Testing save network private\n"
     ]
    },
    {
     "data": {
      "text/plain": [
       "'\\nresp = requests.delete(REST_ENDPOINT + \"/v1/networks/{}\".format(subASUID))\\nprint(resp.content)\\n\\nprint(\"Testing import private network\")\\ndata = {\\n    \\'uuid\\': privateUUID,\\n}\\ndata.update(ndex_accounts[\\'public\\'])\\nprint(data)\\nresp = requests.post(REST_ENDPOINT + \\'/cyndex2/v1/networks\\', data=json.dumps(data), headers={\\'Content-Type\\': \\'application/json\\'})\\nprint(resp.content)\\n'"
      ]
     },
     "execution_count": 9,
     "metadata": {},
     "output_type": "execute_result"
    }
   ],
   "source": [
    "\n",
    "print(\"Testing save network private\")\n",
    "data = {\n",
    "  \"metadata\": {\n",
    "      'name': 'private SubA',\n",
    "  },\n",
    "  \"isPublic\": False,\n",
    "  \"writeCollection\": False\n",
    "}\n",
    "data.update(ndex_accounts['public'])\n",
    "ndexUrl = data['serverUrl']\n",
    "\n",
    "privateUUID = uploadNetwork(subASUID, data)\n",
    "resp = requests.get(ndexUrl + '/network/{}/aspect'.format(privateUUID))\n",
    "code = resp.json()['errorCode']\n",
    "assert code == 'NDEx_Unauthorized_Operation_Exception', 'Private network should return unauthorized exception'\n",
    "'''\n",
    "resp = requests.delete(REST_ENDPOINT + \"/v1/networks/{}\".format(subASUID))\n",
    "print(resp.content)\n",
    "\n",
    "print(\"Testing import private network\")\n",
    "data = {\n",
    "    'uuid': privateUUID,\n",
    "}\n",
    "data.update(ndex_accounts['public'])\n",
    "print(data)\n",
    "resp = requests.post(REST_ENDPOINT + '/cyndex2/v1/networks', data=json.dumps(data), headers={'Content-Type': 'application/json'})\n",
    "print(resp.content)\n",
    "'''"
   ]
  },
  {
   "cell_type": "code",
   "execution_count": 28,
   "metadata": {},
   "outputs": [
    {
     "name": "stdout",
     "output_type": "stream",
     "text": [
      "Testing update private network\n",
      "{'metadata': {'name': 'private SubA Updated'}, 'isPublic': 'false', 'writeCollection': 'false', 'serverUrl': 'http://ndexbio.org/v2', 'username': 'bsettle', 'password': 'ndexTest'}\n",
      "{'data': {}, 'errors': [{'status': 500, 'type': 'urn:cytoscape:ci:ndex:v1:errors:3', 'message': 'Could not update existing NDEx entry.  NDEx server did not accept your request.', 'link': 'file:/Users/bsettle/CytoscapeConfiguration/3/framework-cytoscape.log'}]}\n"
     ]
    },
    {
     "ename": "KeyError",
     "evalue": "'uuid'",
     "output_type": "error",
     "traceback": [
      "\u001b[0;31m---------------------------------------------------------------------------\u001b[0m",
      "\u001b[0;31mKeyError\u001b[0m                                  Traceback (most recent call last)",
      "\u001b[0;32m<ipython-input-28-169cb2c81098>\u001b[0m in \u001b[0;36m<module>\u001b[0;34m()\u001b[0m\n\u001b[1;32m     10\u001b[0m \u001b[0mdata\u001b[0m\u001b[0;34m.\u001b[0m\u001b[0mupdate\u001b[0m\u001b[0;34m(\u001b[0m\u001b[0mndex_accounts\u001b[0m\u001b[0;34m[\u001b[0m\u001b[0;34m'public'\u001b[0m\u001b[0;34m]\u001b[0m\u001b[0;34m)\u001b[0m\u001b[0;34m\u001b[0m\u001b[0m\n\u001b[1;32m     11\u001b[0m \u001b[0mprint\u001b[0m\u001b[0;34m(\u001b[0m\u001b[0mdata\u001b[0m\u001b[0;34m)\u001b[0m\u001b[0;34m\u001b[0m\u001b[0m\n\u001b[0;32m---> 12\u001b[0;31m \u001b[0mprivateUUID2\u001b[0m \u001b[0;34m=\u001b[0m \u001b[0muploadNetwork\u001b[0m\u001b[0;34m(\u001b[0m\u001b[0msubASUID\u001b[0m\u001b[0;34m,\u001b[0m \u001b[0mdata\u001b[0m\u001b[0;34m,\u001b[0m \u001b[0mmethod\u001b[0m\u001b[0;34m=\u001b[0m\u001b[0;34m'put'\u001b[0m\u001b[0;34m)\u001b[0m\u001b[0;34m\u001b[0m\u001b[0m\n\u001b[0m\u001b[1;32m     13\u001b[0m \u001b[0;32massert\u001b[0m \u001b[0mprivateUUID\u001b[0m \u001b[0;34m==\u001b[0m \u001b[0mprivateUUID2\u001b[0m\u001b[0;34m,\u001b[0m \u001b[0;34m\"UUIDs do not match, {} != {}\"\u001b[0m\u001b[0;34m.\u001b[0m\u001b[0mformat\u001b[0m\u001b[0;34m(\u001b[0m\u001b[0mprivateUUID\u001b[0m\u001b[0;34m,\u001b[0m \u001b[0mprivateUUID2\u001b[0m\u001b[0;34m)\u001b[0m\u001b[0;34m\u001b[0m\u001b[0m\n",
      "\u001b[0;32m<ipython-input-2-bed92539c63f>\u001b[0m in \u001b[0;36muploadNetwork\u001b[0;34m(suid, data, method)\u001b[0m\n\u001b[1;32m     59\u001b[0m     \u001b[0;32mexcept\u001b[0m \u001b[0mException\u001b[0m \u001b[0;32mas\u001b[0m \u001b[0me\u001b[0m\u001b[0;34m:\u001b[0m\u001b[0;34m\u001b[0m\u001b[0m\n\u001b[1;32m     60\u001b[0m         \u001b[0mprint\u001b[0m\u001b[0;34m(\u001b[0m\u001b[0mresp\u001b[0m\u001b[0;34m.\u001b[0m\u001b[0mjson\u001b[0m\u001b[0;34m(\u001b[0m\u001b[0;34m)\u001b[0m\u001b[0;34m)\u001b[0m\u001b[0;34m\u001b[0m\u001b[0m\n\u001b[0;32m---> 61\u001b[0;31m         \u001b[0;32mraise\u001b[0m \u001b[0me\u001b[0m\u001b[0;34m\u001b[0m\u001b[0m\n\u001b[0m\u001b[1;32m     62\u001b[0m     \u001b[0;32mreturn\u001b[0m \u001b[0muuid\u001b[0m\u001b[0;34m\u001b[0m\u001b[0m\n",
      "\u001b[0;32m<ipython-input-2-bed92539c63f>\u001b[0m in \u001b[0;36muploadNetwork\u001b[0;34m(suid, data, method)\u001b[0m\n\u001b[1;32m     56\u001b[0m             data=json.dumps(data), headers={'Content-Type': 'application/json'})\n\u001b[1;32m     57\u001b[0m     \u001b[0;32mtry\u001b[0m\u001b[0;34m:\u001b[0m\u001b[0;34m\u001b[0m\u001b[0m\n\u001b[0;32m---> 58\u001b[0;31m         \u001b[0muuid\u001b[0m \u001b[0;34m=\u001b[0m \u001b[0mresp\u001b[0m\u001b[0;34m.\u001b[0m\u001b[0mjson\u001b[0m\u001b[0;34m(\u001b[0m\u001b[0;34m)\u001b[0m\u001b[0;34m[\u001b[0m\u001b[0;34m'data'\u001b[0m\u001b[0;34m]\u001b[0m\u001b[0;34m[\u001b[0m\u001b[0;34m'uuid'\u001b[0m\u001b[0;34m]\u001b[0m\u001b[0;34m\u001b[0m\u001b[0m\n\u001b[0m\u001b[1;32m     59\u001b[0m     \u001b[0;32mexcept\u001b[0m \u001b[0mException\u001b[0m \u001b[0;32mas\u001b[0m \u001b[0me\u001b[0m\u001b[0;34m:\u001b[0m\u001b[0;34m\u001b[0m\u001b[0m\n\u001b[1;32m     60\u001b[0m         \u001b[0mprint\u001b[0m\u001b[0;34m(\u001b[0m\u001b[0mresp\u001b[0m\u001b[0;34m.\u001b[0m\u001b[0mjson\u001b[0m\u001b[0;34m(\u001b[0m\u001b[0;34m)\u001b[0m\u001b[0;34m)\u001b[0m\u001b[0;34m\u001b[0m\u001b[0m\n",
      "\u001b[0;31mKeyError\u001b[0m: 'uuid'"
     ]
    }
   ],
   "source": [
    "print(\"Testing update private network\")\n",
    "addNetworkAttributes(subASUID, {'extra': \"value\"})\n",
    "data = {\n",
    "  \"metadata\": {\n",
    "      'name': 'private SubA Updated'\n",
    "  },\n",
    "  \"isPublic\": \"false\",\n",
    "  \"writeCollection\": \"false\"\n",
    "}\n",
    "data.update(ndex_accounts['public'])\n",
    "print(data)\n",
    "privateUUID2 = uploadNetwork(subASUID, data, method='put')\n",
    "assert privateUUID == privateUUID2, \"UUIDs do not match, {} != {}\".format(privateUUID, privateUUID2)\n"
   ]
  },
  {
   "cell_type": "code",
   "execution_count": null,
   "metadata": {
    "collapsed": true
   },
   "outputs": [],
   "source": [
    "print(\"Testing save network public\")\n",
    "data = {\n",
    "  \"metadata\": {\n",
    "      'name': 'public SubA',\n",
    "  },\n",
    "  \"isPublic\": 'true',\n",
    "  \"writeCollection\": 'false'\n",
    "}\n",
    "data.update(ndex_accounts['public'])\n",
    "publicUUID = uploadNetwork(subASUID, data)\n",
    "resp = requests.get('http://ndexbio.org/v2/network/{}/aspect/networkAttributes'.format(publicUUID))\n",
    "data = resp.json()\n",
    "data = {d['n']: d['v'] for d in data}\n",
    "\n",
    "if not assertState(network_states[subASUID], data):\n",
    "    print(\"SubA summary on NDEx missing attributes.\\n{} not in {}\".format(network_states[subASUID], data))"
   ]
  },
  {
   "cell_type": "code",
   "execution_count": null,
   "metadata": {
    "collapsed": true
   },
   "outputs": [],
   "source": [
    "print(\"Testing import singleton\")"
   ]
  },
  {
   "cell_type": "code",
   "execution_count": null,
   "metadata": {
    "collapsed": true
   },
   "outputs": [],
   "source": [
    "print(\"Testing import collection\")"
   ]
  },
  {
   "cell_type": "code",
   "execution_count": null,
   "metadata": {
    "collapsed": true
   },
   "outputs": [],
   "source": []
  },
  {
   "cell_type": "markdown",
   "metadata": {},
   "source": [
    "Get SubA with NDEx endpoint and compare nodes, edges, and attributes\n",
    "Add \"author\" attribute to SubA\n",
    "Update SubA to NDEx via CyNDEx2\n",
    "Get SubA with NDEx endpoint and verify author\n",
    "Import SubA to cytoscape and compare nodes, edges, and attributes\n",
    "\n",
    "Push Collection to NDEx via CyNDEx2\n",
    "Get Collection with NDEx endpoint and verify attributes (collection and subnetworks)\n",
    "Add \"author\" attribute to Collection\n",
    "Update Collection to NDEx via CyNDEx2\n",
    "Get Collection with NDEx endpoint and verify author in Collection\n",
    "Add \"author\" attribute to SubB\n",
    "Update Collection to NDEx via CyNDEx2\n",
    "Get Collection with NDEx endpoint and verify author in SubB\n",
    "Import Collection to cytoscape and compare nodes, edges, and attributes (collection and subnetworks)\n",
    "\n",
    "Clear all networks\n",
    "Pull singleton from ndexbutler networks via CyNDEx2\n",
    "Verify information (attributes, nodeCount) against NDEx endpoint\n",
    "Add/Change author, description attributes\n",
    "E: Try to update, verify error message\n",
    "Upload to NDEx as new network\n",
    "Get net network with NDEx endpoint and compare new attributes\n",
    "Remove from cytoscape\n",
    "Import network again\n",
    "Change attributes again\n",
    "Update on NDEx\n",
    "Verify changes with NDEx endpoint\n",
    "\n",
    "ISSUES TO CHECK FOR\n",
    "Removing attributes (how to handle null values)"
   ]
  },
  {
   "cell_type": "code",
   "execution_count": null,
   "metadata": {
    "collapsed": true
   },
   "outputs": [],
   "source": [
    "# Test with large network, ~3.2M edges\n",
    "\n",
    "requests.get(REST_ENDPOINT + \"/cyndex2/v1/networks\")\n"
   ]
  }
 ],
 "metadata": {
  "kernelspec": {
   "display_name": "Python 3",
   "language": "python",
   "name": "python3"
  },
  "language_info": {
   "codemirror_mode": {
    "name": "ipython",
    "version": 3
   },
   "file_extension": ".py",
   "mimetype": "text/x-python",
   "name": "python",
   "nbconvert_exporter": "python",
   "pygments_lexer": "ipython3",
   "version": "3.6.1"
  }
 },
 "nbformat": 4,
 "nbformat_minor": 2
}
